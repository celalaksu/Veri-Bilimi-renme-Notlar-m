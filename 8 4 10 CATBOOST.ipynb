{
 "metadata": {
  "language_info": {
   "codemirror_mode": {
    "name": "ipython",
    "version": 3
   },
   "file_extension": ".py",
   "mimetype": "text/x-python",
   "name": "python",
   "nbconvert_exporter": "python",
   "pygments_lexer": "ipython3",
   "version": "3.8.2-final"
  },
  "orig_nbformat": 2,
  "kernelspec": {
   "name": "python3",
   "display_name": "Python 3"
  }
 },
 "nbformat": 4,
 "nbformat_minor": 2,
 "cells": [
  {
   "source": [
    "# CATBOOST"
   ],
   "cell_type": "markdown",
   "metadata": {}
  },
  {
   "cell_type": "code",
   "execution_count": 1,
   "metadata": {},
   "outputs": [],
   "source": [
    "import numpy as np \n",
    "import pandas as pd \n",
    "import statsmodels.api as sm \n",
    "import seaborn as sns \n",
    "import matplotlib.pyplot as plt \n",
    "from sklearn.preprocessing import scale, StandardScaler\n",
    "from sklearn.model_selection import train_test_split, GridSearchCV, cross_val_score\n",
    "from sklearn.metrics import confusion_matrix, accuracy_score, mean_squared_error, r2_score, roc_auc_score, roc_curve, classification_report "
   ]
  },
  {
   "cell_type": "code",
   "execution_count": 2,
   "metadata": {},
   "outputs": [],
   "source": [
    "# !pip install catboost"
   ]
  },
  {
   "cell_type": "code",
   "execution_count": 3,
   "metadata": {},
   "outputs": [],
   "source": [
    "from catboost import CatBoostClassifier"
   ]
  },
  {
   "cell_type": "code",
   "execution_count": 4,
   "metadata": {},
   "outputs": [],
   "source": [
    "df = pd.read_csv(\"verisetleri\\diabetes.csv\")\n",
    "y = df[\"Outcome\"]\n",
    "X = df.drop([\"Outcome\"], axis=1)\n",
    "X_train, X_test, y_train, y_test = train_test_split(X, y, test_size=0.30, random_state=42)"
   ]
  },
  {
   "cell_type": "code",
   "execution_count": 7,
   "metadata": {
    "tags": []
   },
   "outputs": [],
   "source": [
    "# catb_model = CatBoostClassifier().fit(X_train, y_train)\n",
    "catb_model = CatBoostClassifier().fit(X_train, y_train, verbose=False)"
   ]
  },
  {
   "cell_type": "code",
   "execution_count": null,
   "metadata": {},
   "outputs": [],
   "source": []
  },
  {
   "cell_type": "code",
   "execution_count": 6,
   "metadata": {},
   "outputs": [
    {
     "output_type": "execute_result",
     "data": {
      "text/plain": [
       "0.7402597402597403"
      ]
     },
     "metadata": {},
     "execution_count": 6
    }
   ],
   "source": [
    "y_pred = catb_model.predict(X_test)\n",
    "accuracy_score(y_test, y_pred)"
   ]
  },
  {
   "cell_type": "code",
   "execution_count": 8,
   "metadata": {},
   "outputs": [],
   "source": [
    "# MODEL TUNNING"
   ]
  },
  {
   "cell_type": "code",
   "execution_count": 9,
   "metadata": {},
   "outputs": [],
   "source": [
    "catb = CatBoostClassifier()"
   ]
  },
  {
   "cell_type": "code",
   "execution_count": null,
   "metadata": {},
   "outputs": [],
   "source": [
    "# iterations --> Ağaç sayısı "
   ]
  },
  {
   "cell_type": "code",
   "execution_count": 10,
   "metadata": {},
   "outputs": [],
   "source": [
    "catb_params = {\"iterations\":[200, 500, 1000], \"learning_rate\":[0.01, 0.03,0.1], \"depth\":[4,5,8]}"
   ]
  },
  {
   "cell_type": "code",
   "execution_count": 11,
   "metadata": {},
   "outputs": [
    {
     "output_type": "stream",
     "name": "stdout",
     "text": [
      "Fitting 10 folds for each of 27 candidates, totalling 270 fits\n",
      "[Parallel(n_jobs=-1)]: Using backend LokyBackend with 8 concurrent workers.\n",
      "[Parallel(n_jobs=-1)]: Done  25 tasks      | elapsed:   19.4s\n",
      "[Parallel(n_jobs=-1)]: Done 146 tasks      | elapsed:  1.7min\n",
      "[Parallel(n_jobs=-1)]: Done 270 out of 270 | elapsed:  5.0min finished\n",
      "0:\tlearn: 0.6863412\ttotal: 20.4ms\tremaining: 4.05s\n",
      "1:\tlearn: 0.6811322\ttotal: 24.4ms\tremaining: 2.42s\n",
      "2:\tlearn: 0.6753199\ttotal: 29.6ms\tremaining: 1.94s\n",
      "3:\tlearn: 0.6697717\ttotal: 34.1ms\tremaining: 1.67s\n",
      "4:\tlearn: 0.6642090\ttotal: 38.4ms\tremaining: 1.5s\n",
      "5:\tlearn: 0.6577038\ttotal: 42.4ms\tremaining: 1.37s\n",
      "6:\tlearn: 0.6522290\ttotal: 46.9ms\tremaining: 1.29s\n",
      "7:\tlearn: 0.6466015\ttotal: 51.1ms\tremaining: 1.23s\n",
      "8:\tlearn: 0.6408068\ttotal: 55.4ms\tremaining: 1.17s\n",
      "9:\tlearn: 0.6358218\ttotal: 60ms\tremaining: 1.14s\n",
      "10:\tlearn: 0.6300444\ttotal: 64.6ms\tremaining: 1.11s\n",
      "11:\tlearn: 0.6240992\ttotal: 68.8ms\tremaining: 1.08s\n",
      "12:\tlearn: 0.6196618\ttotal: 73.3ms\tremaining: 1.05s\n",
      "13:\tlearn: 0.6149237\ttotal: 77.6ms\tremaining: 1.03s\n",
      "14:\tlearn: 0.6093146\ttotal: 81.5ms\tremaining: 1s\n",
      "15:\tlearn: 0.6047282\ttotal: 85.7ms\tremaining: 986ms\n",
      "16:\tlearn: 0.6013242\ttotal: 90.8ms\tremaining: 977ms\n",
      "17:\tlearn: 0.5958624\ttotal: 95.8ms\tremaining: 968ms\n",
      "18:\tlearn: 0.5903733\ttotal: 100ms\tremaining: 954ms\n",
      "19:\tlearn: 0.5866505\ttotal: 105ms\tremaining: 947ms\n",
      "20:\tlearn: 0.5831865\ttotal: 110ms\tremaining: 935ms\n",
      "21:\tlearn: 0.5787839\ttotal: 114ms\tremaining: 924ms\n",
      "22:\tlearn: 0.5749453\ttotal: 119ms\tremaining: 913ms\n",
      "23:\tlearn: 0.5703621\ttotal: 123ms\tremaining: 903ms\n",
      "24:\tlearn: 0.5662773\ttotal: 127ms\tremaining: 891ms\n",
      "25:\tlearn: 0.5629069\ttotal: 131ms\tremaining: 879ms\n",
      "26:\tlearn: 0.5589454\ttotal: 136ms\tremaining: 870ms\n",
      "27:\tlearn: 0.5544253\ttotal: 140ms\tremaining: 860ms\n",
      "28:\tlearn: 0.5504193\ttotal: 144ms\tremaining: 852ms\n",
      "29:\tlearn: 0.5470888\ttotal: 150ms\tremaining: 850ms\n",
      "30:\tlearn: 0.5441572\ttotal: 155ms\tremaining: 843ms\n",
      "31:\tlearn: 0.5396568\ttotal: 160ms\tremaining: 842ms\n",
      "32:\tlearn: 0.5356520\ttotal: 165ms\tremaining: 837ms\n",
      "33:\tlearn: 0.5315662\ttotal: 171ms\tremaining: 833ms\n",
      "34:\tlearn: 0.5280107\ttotal: 175ms\tremaining: 825ms\n",
      "35:\tlearn: 0.5248634\ttotal: 180ms\tremaining: 820ms\n",
      "36:\tlearn: 0.5224134\ttotal: 185ms\tremaining: 814ms\n",
      "37:\tlearn: 0.5198514\ttotal: 189ms\tremaining: 805ms\n",
      "38:\tlearn: 0.5167668\ttotal: 194ms\tremaining: 799ms\n",
      "39:\tlearn: 0.5139063\ttotal: 198ms\tremaining: 792ms\n",
      "40:\tlearn: 0.5101721\ttotal: 203ms\tremaining: 786ms\n",
      "41:\tlearn: 0.5066326\ttotal: 207ms\tremaining: 779ms\n",
      "42:\tlearn: 0.5033936\ttotal: 212ms\tremaining: 774ms\n",
      "43:\tlearn: 0.5006117\ttotal: 216ms\tremaining: 766ms\n",
      "44:\tlearn: 0.4980917\ttotal: 220ms\tremaining: 759ms\n",
      "45:\tlearn: 0.4959463\ttotal: 226ms\tremaining: 756ms\n",
      "46:\tlearn: 0.4934198\ttotal: 230ms\tremaining: 750ms\n",
      "47:\tlearn: 0.4906410\ttotal: 235ms\tremaining: 744ms\n",
      "48:\tlearn: 0.4878576\ttotal: 240ms\tremaining: 740ms\n",
      "49:\tlearn: 0.4850977\ttotal: 244ms\tremaining: 733ms\n",
      "50:\tlearn: 0.4826157\ttotal: 249ms\tremaining: 726ms\n",
      "51:\tlearn: 0.4798530\ttotal: 253ms\tremaining: 720ms\n",
      "52:\tlearn: 0.4776349\ttotal: 257ms\tremaining: 714ms\n",
      "53:\tlearn: 0.4754652\ttotal: 262ms\tremaining: 707ms\n",
      "54:\tlearn: 0.4733755\ttotal: 266ms\tremaining: 701ms\n",
      "55:\tlearn: 0.4706337\ttotal: 270ms\tremaining: 695ms\n",
      "56:\tlearn: 0.4677619\ttotal: 275ms\tremaining: 689ms\n",
      "57:\tlearn: 0.4657008\ttotal: 279ms\tremaining: 683ms\n",
      "58:\tlearn: 0.4637682\ttotal: 283ms\tremaining: 677ms\n",
      "59:\tlearn: 0.4615518\ttotal: 288ms\tremaining: 671ms\n",
      "60:\tlearn: 0.4600032\ttotal: 292ms\tremaining: 664ms\n",
      "61:\tlearn: 0.4584260\ttotal: 293ms\tremaining: 652ms\n",
      "62:\tlearn: 0.4567343\ttotal: 297ms\tremaining: 646ms\n",
      "63:\tlearn: 0.4541223\ttotal: 301ms\tremaining: 641ms\n",
      "64:\tlearn: 0.4530108\ttotal: 303ms\tremaining: 629ms\n",
      "65:\tlearn: 0.4512377\ttotal: 307ms\tremaining: 623ms\n",
      "66:\tlearn: 0.4487025\ttotal: 311ms\tremaining: 617ms\n",
      "67:\tlearn: 0.4468152\ttotal: 315ms\tremaining: 612ms\n",
      "68:\tlearn: 0.4449902\ttotal: 319ms\tremaining: 606ms\n",
      "69:\tlearn: 0.4426412\ttotal: 323ms\tremaining: 600ms\n",
      "70:\tlearn: 0.4401906\ttotal: 327ms\tremaining: 595ms\n",
      "71:\tlearn: 0.4380992\ttotal: 332ms\tremaining: 590ms\n",
      "72:\tlearn: 0.4367450\ttotal: 336ms\tremaining: 585ms\n",
      "73:\tlearn: 0.4353520\ttotal: 340ms\tremaining: 578ms\n",
      "74:\tlearn: 0.4340243\ttotal: 344ms\tremaining: 573ms\n",
      "75:\tlearn: 0.4315947\ttotal: 348ms\tremaining: 568ms\n",
      "76:\tlearn: 0.4298990\ttotal: 352ms\tremaining: 563ms\n",
      "77:\tlearn: 0.4285587\ttotal: 356ms\tremaining: 557ms\n",
      "78:\tlearn: 0.4266109\ttotal: 361ms\tremaining: 553ms\n",
      "79:\tlearn: 0.4244339\ttotal: 365ms\tremaining: 548ms\n",
      "80:\tlearn: 0.4228679\ttotal: 370ms\tremaining: 543ms\n",
      "81:\tlearn: 0.4214531\ttotal: 375ms\tremaining: 539ms\n",
      "82:\tlearn: 0.4200925\ttotal: 379ms\tremaining: 534ms\n",
      "83:\tlearn: 0.4184640\ttotal: 383ms\tremaining: 528ms\n",
      "84:\tlearn: 0.4168303\ttotal: 387ms\tremaining: 523ms\n",
      "85:\tlearn: 0.4156724\ttotal: 392ms\tremaining: 519ms\n",
      "86:\tlearn: 0.4140974\ttotal: 396ms\tremaining: 514ms\n",
      "87:\tlearn: 0.4124542\ttotal: 400ms\tremaining: 509ms\n",
      "88:\tlearn: 0.4107650\ttotal: 404ms\tremaining: 504ms\n",
      "89:\tlearn: 0.4091247\ttotal: 408ms\tremaining: 499ms\n",
      "90:\tlearn: 0.4075743\ttotal: 412ms\tremaining: 494ms\n",
      "91:\tlearn: 0.4062728\ttotal: 416ms\tremaining: 489ms\n",
      "92:\tlearn: 0.4044987\ttotal: 421ms\tremaining: 484ms\n",
      "93:\tlearn: 0.4030509\ttotal: 425ms\tremaining: 479ms\n",
      "94:\tlearn: 0.4012366\ttotal: 429ms\tremaining: 474ms\n",
      "95:\tlearn: 0.3995010\ttotal: 433ms\tremaining: 469ms\n",
      "96:\tlearn: 0.3983567\ttotal: 438ms\tremaining: 465ms\n",
      "97:\tlearn: 0.3970163\ttotal: 441ms\tremaining: 459ms\n",
      "98:\tlearn: 0.3955954\ttotal: 446ms\tremaining: 455ms\n",
      "99:\tlearn: 0.3946458\ttotal: 450ms\tremaining: 450ms\n",
      "100:\tlearn: 0.3932682\ttotal: 454ms\tremaining: 445ms\n",
      "101:\tlearn: 0.3921086\ttotal: 458ms\tremaining: 440ms\n",
      "102:\tlearn: 0.3912041\ttotal: 463ms\tremaining: 436ms\n",
      "103:\tlearn: 0.3896085\ttotal: 467ms\tremaining: 432ms\n",
      "104:\tlearn: 0.3881310\ttotal: 472ms\tremaining: 427ms\n",
      "105:\tlearn: 0.3867841\ttotal: 476ms\tremaining: 422ms\n",
      "106:\tlearn: 0.3855611\ttotal: 480ms\tremaining: 418ms\n",
      "107:\tlearn: 0.3841345\ttotal: 485ms\tremaining: 413ms\n",
      "108:\tlearn: 0.3829608\ttotal: 489ms\tremaining: 408ms\n",
      "109:\tlearn: 0.3819127\ttotal: 493ms\tremaining: 404ms\n",
      "110:\tlearn: 0.3810000\ttotal: 497ms\tremaining: 399ms\n",
      "111:\tlearn: 0.3790356\ttotal: 501ms\tremaining: 394ms\n",
      "112:\tlearn: 0.3774673\ttotal: 506ms\tremaining: 389ms\n",
      "113:\tlearn: 0.3762712\ttotal: 510ms\tremaining: 385ms\n",
      "114:\tlearn: 0.3750760\ttotal: 515ms\tremaining: 380ms\n",
      "115:\tlearn: 0.3735547\ttotal: 518ms\tremaining: 375ms\n",
      "116:\tlearn: 0.3728015\ttotal: 522ms\tremaining: 371ms\n",
      "117:\tlearn: 0.3714192\ttotal: 527ms\tremaining: 366ms\n",
      "118:\tlearn: 0.3705935\ttotal: 531ms\tremaining: 361ms\n",
      "119:\tlearn: 0.3694736\ttotal: 535ms\tremaining: 356ms\n",
      "120:\tlearn: 0.3687791\ttotal: 539ms\tremaining: 352ms\n",
      "121:\tlearn: 0.3679782\ttotal: 543ms\tremaining: 347ms\n",
      "122:\tlearn: 0.3666547\ttotal: 547ms\tremaining: 343ms\n",
      "123:\tlearn: 0.3655144\ttotal: 552ms\tremaining: 338ms\n",
      "124:\tlearn: 0.3643546\ttotal: 556ms\tremaining: 334ms\n",
      "125:\tlearn: 0.3636557\ttotal: 560ms\tremaining: 329ms\n",
      "126:\tlearn: 0.3625550\ttotal: 564ms\tremaining: 324ms\n",
      "127:\tlearn: 0.3610147\ttotal: 569ms\tremaining: 320ms\n",
      "128:\tlearn: 0.3596348\ttotal: 574ms\tremaining: 316ms\n",
      "129:\tlearn: 0.3584074\ttotal: 578ms\tremaining: 311ms\n",
      "130:\tlearn: 0.3569602\ttotal: 582ms\tremaining: 307ms\n",
      "131:\tlearn: 0.3558913\ttotal: 586ms\tremaining: 302ms\n",
      "132:\tlearn: 0.3548689\ttotal: 590ms\tremaining: 297ms\n",
      "133:\tlearn: 0.3533837\ttotal: 594ms\tremaining: 293ms\n",
      "134:\tlearn: 0.3524619\ttotal: 598ms\tremaining: 288ms\n",
      "135:\tlearn: 0.3518338\ttotal: 603ms\tremaining: 284ms\n",
      "136:\tlearn: 0.3505366\ttotal: 607ms\tremaining: 279ms\n",
      "137:\tlearn: 0.3497723\ttotal: 611ms\tremaining: 275ms\n",
      "138:\tlearn: 0.3489030\ttotal: 615ms\tremaining: 270ms\n",
      "139:\tlearn: 0.3482652\ttotal: 620ms\tremaining: 266ms\n",
      "140:\tlearn: 0.3471165\ttotal: 624ms\tremaining: 261ms\n",
      "141:\tlearn: 0.3458630\ttotal: 628ms\tremaining: 256ms\n",
      "142:\tlearn: 0.3445867\ttotal: 633ms\tremaining: 252ms\n",
      "143:\tlearn: 0.3436773\ttotal: 637ms\tremaining: 248ms\n",
      "144:\tlearn: 0.3426979\ttotal: 641ms\tremaining: 243ms\n",
      "145:\tlearn: 0.3417627\ttotal: 645ms\tremaining: 238ms\n",
      "146:\tlearn: 0.3407937\ttotal: 650ms\tremaining: 234ms\n",
      "147:\tlearn: 0.3398191\ttotal: 654ms\tremaining: 230ms\n",
      "148:\tlearn: 0.3390524\ttotal: 657ms\tremaining: 225ms\n",
      "149:\tlearn: 0.3381671\ttotal: 662ms\tremaining: 221ms\n",
      "150:\tlearn: 0.3375138\ttotal: 666ms\tremaining: 216ms\n",
      "151:\tlearn: 0.3365898\ttotal: 670ms\tremaining: 212ms\n",
      "152:\tlearn: 0.3358887\ttotal: 674ms\tremaining: 207ms\n",
      "153:\tlearn: 0.3346492\ttotal: 679ms\tremaining: 203ms\n",
      "154:\tlearn: 0.3336018\ttotal: 683ms\tremaining: 198ms\n",
      "155:\tlearn: 0.3330832\ttotal: 687ms\tremaining: 194ms\n",
      "156:\tlearn: 0.3324238\ttotal: 692ms\tremaining: 189ms\n",
      "157:\tlearn: 0.3312569\ttotal: 696ms\tremaining: 185ms\n",
      "158:\tlearn: 0.3299834\ttotal: 700ms\tremaining: 180ms\n",
      "159:\tlearn: 0.3286908\ttotal: 704ms\tremaining: 176ms\n",
      "160:\tlearn: 0.3276277\ttotal: 709ms\tremaining: 172ms\n",
      "161:\tlearn: 0.3267134\ttotal: 713ms\tremaining: 167ms\n",
      "162:\tlearn: 0.3259380\ttotal: 717ms\tremaining: 163ms\n",
      "163:\tlearn: 0.3249529\ttotal: 721ms\tremaining: 158ms\n",
      "164:\tlearn: 0.3241876\ttotal: 725ms\tremaining: 154ms\n",
      "165:\tlearn: 0.3237797\ttotal: 730ms\tremaining: 149ms\n",
      "166:\tlearn: 0.3228611\ttotal: 734ms\tremaining: 145ms\n",
      "167:\tlearn: 0.3218481\ttotal: 738ms\tremaining: 141ms\n",
      "168:\tlearn: 0.3209571\ttotal: 742ms\tremaining: 136ms\n",
      "169:\tlearn: 0.3200492\ttotal: 746ms\tremaining: 132ms\n",
      "170:\tlearn: 0.3189373\ttotal: 750ms\tremaining: 127ms\n",
      "171:\tlearn: 0.3179033\ttotal: 754ms\tremaining: 123ms\n",
      "172:\tlearn: 0.3172849\ttotal: 758ms\tremaining: 118ms\n",
      "173:\tlearn: 0.3166655\ttotal: 763ms\tremaining: 114ms\n",
      "174:\tlearn: 0.3157718\ttotal: 766ms\tremaining: 109ms\n",
      "175:\tlearn: 0.3150160\ttotal: 771ms\tremaining: 105ms\n",
      "176:\tlearn: 0.3142830\ttotal: 775ms\tremaining: 101ms\n",
      "177:\tlearn: 0.3138662\ttotal: 779ms\tremaining: 96.3ms\n",
      "178:\tlearn: 0.3133629\ttotal: 783ms\tremaining: 91.9ms\n",
      "179:\tlearn: 0.3125061\ttotal: 788ms\tremaining: 87.5ms\n",
      "180:\tlearn: 0.3115252\ttotal: 792ms\tremaining: 83.1ms\n",
      "181:\tlearn: 0.3110208\ttotal: 796ms\tremaining: 78.7ms\n",
      "182:\tlearn: 0.3105547\ttotal: 801ms\tremaining: 74.4ms\n",
      "183:\tlearn: 0.3094534\ttotal: 805ms\tremaining: 70ms\n",
      "184:\tlearn: 0.3087456\ttotal: 809ms\tremaining: 65.6ms\n",
      "185:\tlearn: 0.3079835\ttotal: 813ms\tremaining: 61.2ms\n",
      "186:\tlearn: 0.3072245\ttotal: 817ms\tremaining: 56.8ms\n",
      "187:\tlearn: 0.3061540\ttotal: 821ms\tremaining: 52.4ms\n",
      "188:\tlearn: 0.3054721\ttotal: 825ms\tremaining: 48ms\n",
      "189:\tlearn: 0.3048467\ttotal: 830ms\tremaining: 43.7ms\n",
      "190:\tlearn: 0.3042662\ttotal: 834ms\tremaining: 39.3ms\n",
      "191:\tlearn: 0.3037025\ttotal: 838ms\tremaining: 34.9ms\n",
      "192:\tlearn: 0.3028928\ttotal: 841ms\tremaining: 30.5ms\n",
      "193:\tlearn: 0.3020155\ttotal: 846ms\tremaining: 26.2ms\n",
      "194:\tlearn: 0.3010007\ttotal: 850ms\tremaining: 21.8ms\n",
      "195:\tlearn: 0.3002253\ttotal: 854ms\tremaining: 17.4ms\n",
      "196:\tlearn: 0.2999682\ttotal: 857ms\tremaining: 13ms\n",
      "197:\tlearn: 0.2994228\ttotal: 861ms\tremaining: 8.7ms\n",
      "198:\tlearn: 0.2986712\ttotal: 865ms\tremaining: 4.35ms\n",
      "199:\tlearn: 0.2980459\ttotal: 869ms\tremaining: 0us\n"
     ]
    }
   ],
   "source": [
    "catb_cv_model = GridSearchCV(catb, catb_params, cv=10, n_jobs=-1, verbose=2).fit(X_train, y_train)"
   ]
  },
  {
   "cell_type": "code",
   "execution_count": 12,
   "metadata": {},
   "outputs": [
    {
     "output_type": "execute_result",
     "data": {
      "text/plain": [
       "{'depth': 8, 'iterations': 200, 'learning_rate': 0.01}"
      ]
     },
     "metadata": {},
     "execution_count": 12
    }
   ],
   "source": [
    "catb_cv_model.best_params_"
   ]
  },
  {
   "cell_type": "code",
   "execution_count": 22,
   "metadata": {},
   "outputs": [],
   "source": [
    "catb_tuned = CatBoostClassifier(depth=8, iterations=200,learning_rate=0.01).fit(X_train, y_train, verbose=False)"
   ]
  },
  {
   "cell_type": "code",
   "execution_count": 25,
   "metadata": {},
   "outputs": [],
   "source": [
    "y_pred = catb_tuned.predict(X_test)"
   ]
  },
  {
   "cell_type": "code",
   "execution_count": 27,
   "metadata": {},
   "outputs": [
    {
     "output_type": "execute_result",
     "data": {
      "text/plain": [
       "0.7532467532467533"
      ]
     },
     "metadata": {},
     "execution_count": 27
    }
   ],
   "source": [
    "accuracy_score(y_test, y_pred)"
   ]
  },
  {
   "cell_type": "code",
   "execution_count": 28,
   "metadata": {},
   "outputs": [],
   "source": [
    "# DEĞİŞKENLERİN ÖNEM SIRALAMASI"
   ]
  },
  {
   "cell_type": "code",
   "execution_count": 29,
   "metadata": {},
   "outputs": [
    {
     "output_type": "display_data",
     "data": {
      "text/plain": "<Figure size 432x288 with 1 Axes>",
      "image/svg+xml": "<?xml version=\"1.0\" encoding=\"utf-8\" standalone=\"no\"?>\r\n<!DOCTYPE svg PUBLIC \"-//W3C//DTD SVG 1.1//EN\"\r\n  \"http://www.w3.org/Graphics/SVG/1.1/DTD/svg11.dtd\">\r\n<!-- Created with matplotlib (https://matplotlib.org/) -->\r\n<svg height=\"280.638437pt\" version=\"1.1\" viewBox=\"0 0 500.539062 280.638437\" width=\"500.539062pt\" xmlns=\"http://www.w3.org/2000/svg\" xmlns:xlink=\"http://www.w3.org/1999/xlink\">\r\n <metadata>\r\n  <rdf:RDF xmlns:cc=\"http://creativecommons.org/ns#\" xmlns:dc=\"http://purl.org/dc/elements/1.1/\" xmlns:rdf=\"http://www.w3.org/1999/02/22-rdf-syntax-ns#\">\r\n   <cc:Work>\r\n    <dc:type rdf:resource=\"http://purl.org/dc/dcmitype/StillImage\"/>\r\n    <dc:date>2020-10-31T03:22:09.563264</dc:date>\r\n    <dc:format>image/svg+xml</dc:format>\r\n    <dc:creator>\r\n     <cc:Agent>\r\n      <dc:title>Matplotlib v3.3.2, https://matplotlib.org/</dc:title>\r\n     </cc:Agent>\r\n    </dc:creator>\r\n   </cc:Work>\r\n  </rdf:RDF>\r\n </metadata>\r\n <defs>\r\n  <style type=\"text/css\">*{stroke-linecap:butt;stroke-linejoin:round;}</style>\r\n </defs>\r\n <g id=\"figure_1\">\r\n  <g id=\"patch_1\">\r\n   <path d=\"M 0 280.638437 \r\nL 500.539063 280.638437 \r\nL 500.539063 0 \r\nL 0 0 \r\nz\r\n\" style=\"fill:none;\"/>\r\n  </g>\r\n  <g id=\"axes_1\">\r\n   <g id=\"patch_2\">\r\n    <path d=\"M 158.539062 241.57125 \r\nL 493.339063 241.57125 \r\nL 493.339063 24.13125 \r\nL 158.539062 24.13125 \r\nz\r\n\" style=\"fill:#ffffff;\"/>\r\n   </g>\r\n   <g id=\"patch_3\">\r\n    <path clip-path=\"url(#pa628d5148a)\" d=\"M 158.539062 26.84925 \r\nL 477.396205 26.84925 \r\nL 477.396205 48.59325 \r\nL 158.539062 48.59325 \r\nz\r\n\" style=\"fill:#3274a1;\"/>\r\n   </g>\r\n   <g id=\"patch_4\">\r\n    <path clip-path=\"url(#pa628d5148a)\" d=\"M 158.539062 54.02925 \r\nL 364.620714 54.02925 \r\nL 364.620714 75.77325 \r\nL 158.539062 75.77325 \r\nz\r\n\" style=\"fill:#e1812c;\"/>\r\n   </g>\r\n   <g id=\"patch_5\">\r\n    <path clip-path=\"url(#pa628d5148a)\" d=\"M 158.539062 81.20925 \r\nL 340.981572 81.20925 \r\nL 340.981572 102.95325 \r\nL 158.539062 102.95325 \r\nz\r\n\" style=\"fill:#3a923a;\"/>\r\n   </g>\r\n   <g id=\"patch_6\">\r\n    <path clip-path=\"url(#pa628d5148a)\" d=\"M 158.539062 108.38925 \r\nL 287.217334 108.38925 \r\nL 287.217334 130.13325 \r\nL 158.539062 130.13325 \r\nz\r\n\" style=\"fill:#c03d3e;\"/>\r\n   </g>\r\n   <g id=\"patch_7\">\r\n    <path clip-path=\"url(#pa628d5148a)\" d=\"M 158.539062 135.56925 \r\nL 249.701493 135.56925 \r\nL 249.701493 157.31325 \r\nL 158.539062 157.31325 \r\nz\r\n\" style=\"fill:#9372b2;\"/>\r\n   </g>\r\n   <g id=\"patch_8\">\r\n    <path clip-path=\"url(#pa628d5148a)\" d=\"M 158.539062 162.74925 \r\nL 248.23758 162.74925 \r\nL 248.23758 184.49325 \r\nL 158.539062 184.49325 \r\nz\r\n\" style=\"fill:#845b53;\"/>\r\n   </g>\r\n   <g id=\"patch_9\">\r\n    <path clip-path=\"url(#pa628d5148a)\" d=\"M 158.539062 189.92925 \r\nL 247.554281 189.92925 \r\nL 247.554281 211.67325 \r\nL 158.539062 211.67325 \r\nz\r\n\" style=\"fill:#d684bd;\"/>\r\n   </g>\r\n   <g id=\"patch_10\">\r\n    <path clip-path=\"url(#pa628d5148a)\" d=\"M 158.539062 217.10925 \r\nL 247.521886 217.10925 \r\nL 247.521886 238.85325 \r\nL 158.539062 238.85325 \r\nz\r\n\" style=\"fill:#7f7f7f;\"/>\r\n   </g>\r\n   <g id=\"matplotlib.axis_1\">\r\n    <g id=\"xtick_1\">\r\n     <g id=\"line2d_1\">\r\n      <defs>\r\n       <path d=\"M 0 0 \r\nL 0 3.5 \r\n\" id=\"mb2fbdaf27c\" style=\"stroke:#000000;stroke-width:0.8;\"/>\r\n      </defs>\r\n      <g>\r\n       <use style=\"stroke:#000000;stroke-width:0.8;\" x=\"158.539062\" xlink:href=\"#mb2fbdaf27c\" y=\"241.57125\"/>\r\n      </g>\r\n     </g>\r\n     <g id=\"text_1\">\r\n      <!-- 0 -->\r\n      <g transform=\"translate(155.357812 256.169687)scale(0.1 -0.1)\">\r\n       <defs>\r\n        <path d=\"M 31.78125 66.40625 \r\nQ 24.171875 66.40625 20.328125 58.90625 \r\nQ 16.5 51.421875 16.5 36.375 \r\nQ 16.5 21.390625 20.328125 13.890625 \r\nQ 24.171875 6.390625 31.78125 6.390625 \r\nQ 39.453125 6.390625 43.28125 13.890625 \r\nQ 47.125 21.390625 47.125 36.375 \r\nQ 47.125 51.421875 43.28125 58.90625 \r\nQ 39.453125 66.40625 31.78125 66.40625 \r\nz\r\nM 31.78125 74.21875 \r\nQ 44.046875 74.21875 50.515625 64.515625 \r\nQ 56.984375 54.828125 56.984375 36.375 \r\nQ 56.984375 17.96875 50.515625 8.265625 \r\nQ 44.046875 -1.421875 31.78125 -1.421875 \r\nQ 19.53125 -1.421875 13.0625 8.265625 \r\nQ 6.59375 17.96875 6.59375 36.375 \r\nQ 6.59375 54.828125 13.0625 64.515625 \r\nQ 19.53125 74.21875 31.78125 74.21875 \r\nz\r\n\" id=\"DejaVuSans-48\"/>\r\n       </defs>\r\n       <use xlink:href=\"#DejaVuSans-48\"/>\r\n      </g>\r\n     </g>\r\n    </g>\r\n    <g id=\"xtick_2\">\r\n     <g id=\"line2d_2\">\r\n      <g>\r\n       <use style=\"stroke:#000000;stroke-width:0.8;\" x=\"218.284991\" xlink:href=\"#mb2fbdaf27c\" y=\"241.57125\"/>\r\n      </g>\r\n     </g>\r\n     <g id=\"text_2\">\r\n      <!-- 5 -->\r\n      <g transform=\"translate(215.103741 256.169687)scale(0.1 -0.1)\">\r\n       <defs>\r\n        <path d=\"M 10.796875 72.90625 \r\nL 49.515625 72.90625 \r\nL 49.515625 64.59375 \r\nL 19.828125 64.59375 \r\nL 19.828125 46.734375 \r\nQ 21.96875 47.46875 24.109375 47.828125 \r\nQ 26.265625 48.1875 28.421875 48.1875 \r\nQ 40.625 48.1875 47.75 41.5 \r\nQ 54.890625 34.8125 54.890625 23.390625 \r\nQ 54.890625 11.625 47.5625 5.09375 \r\nQ 40.234375 -1.421875 26.90625 -1.421875 \r\nQ 22.3125 -1.421875 17.546875 -0.640625 \r\nQ 12.796875 0.140625 7.71875 1.703125 \r\nL 7.71875 11.625 \r\nQ 12.109375 9.234375 16.796875 8.0625 \r\nQ 21.484375 6.890625 26.703125 6.890625 \r\nQ 35.15625 6.890625 40.078125 11.328125 \r\nQ 45.015625 15.765625 45.015625 23.390625 \r\nQ 45.015625 31 40.078125 35.4375 \r\nQ 35.15625 39.890625 26.703125 39.890625 \r\nQ 22.75 39.890625 18.8125 39.015625 \r\nQ 14.890625 38.140625 10.796875 36.28125 \r\nz\r\n\" id=\"DejaVuSans-53\"/>\r\n       </defs>\r\n       <use xlink:href=\"#DejaVuSans-53\"/>\r\n      </g>\r\n     </g>\r\n    </g>\r\n    <g id=\"xtick_3\">\r\n     <g id=\"line2d_3\">\r\n      <g>\r\n       <use style=\"stroke:#000000;stroke-width:0.8;\" x=\"278.030919\" xlink:href=\"#mb2fbdaf27c\" y=\"241.57125\"/>\r\n      </g>\r\n     </g>\r\n     <g id=\"text_3\">\r\n      <!-- 10 -->\r\n      <g transform=\"translate(271.668419 256.169687)scale(0.1 -0.1)\">\r\n       <defs>\r\n        <path d=\"M 12.40625 8.296875 \r\nL 28.515625 8.296875 \r\nL 28.515625 63.921875 \r\nL 10.984375 60.40625 \r\nL 10.984375 69.390625 \r\nL 28.421875 72.90625 \r\nL 38.28125 72.90625 \r\nL 38.28125 8.296875 \r\nL 54.390625 8.296875 \r\nL 54.390625 0 \r\nL 12.40625 0 \r\nz\r\n\" id=\"DejaVuSans-49\"/>\r\n       </defs>\r\n       <use xlink:href=\"#DejaVuSans-49\"/>\r\n       <use x=\"63.623047\" xlink:href=\"#DejaVuSans-48\"/>\r\n      </g>\r\n     </g>\r\n    </g>\r\n    <g id=\"xtick_4\">\r\n     <g id=\"line2d_4\">\r\n      <g>\r\n       <use style=\"stroke:#000000;stroke-width:0.8;\" x=\"337.776847\" xlink:href=\"#mb2fbdaf27c\" y=\"241.57125\"/>\r\n      </g>\r\n     </g>\r\n     <g id=\"text_4\">\r\n      <!-- 15 -->\r\n      <g transform=\"translate(331.414347 256.169687)scale(0.1 -0.1)\">\r\n       <use xlink:href=\"#DejaVuSans-49\"/>\r\n       <use x=\"63.623047\" xlink:href=\"#DejaVuSans-53\"/>\r\n      </g>\r\n     </g>\r\n    </g>\r\n    <g id=\"xtick_5\">\r\n     <g id=\"line2d_5\">\r\n      <g>\r\n       <use style=\"stroke:#000000;stroke-width:0.8;\" x=\"397.522776\" xlink:href=\"#mb2fbdaf27c\" y=\"241.57125\"/>\r\n      </g>\r\n     </g>\r\n     <g id=\"text_5\">\r\n      <!-- 20 -->\r\n      <g transform=\"translate(391.160276 256.169687)scale(0.1 -0.1)\">\r\n       <defs>\r\n        <path d=\"M 19.1875 8.296875 \r\nL 53.609375 8.296875 \r\nL 53.609375 0 \r\nL 7.328125 0 \r\nL 7.328125 8.296875 \r\nQ 12.9375 14.109375 22.625 23.890625 \r\nQ 32.328125 33.6875 34.8125 36.53125 \r\nQ 39.546875 41.84375 41.421875 45.53125 \r\nQ 43.3125 49.21875 43.3125 52.78125 \r\nQ 43.3125 58.59375 39.234375 62.25 \r\nQ 35.15625 65.921875 28.609375 65.921875 \r\nQ 23.96875 65.921875 18.8125 64.3125 \r\nQ 13.671875 62.703125 7.8125 59.421875 \r\nL 7.8125 69.390625 \r\nQ 13.765625 71.78125 18.9375 73 \r\nQ 24.125 74.21875 28.421875 74.21875 \r\nQ 39.75 74.21875 46.484375 68.546875 \r\nQ 53.21875 62.890625 53.21875 53.421875 \r\nQ 53.21875 48.921875 51.53125 44.890625 \r\nQ 49.859375 40.875 45.40625 35.40625 \r\nQ 44.1875 33.984375 37.640625 27.21875 \r\nQ 31.109375 20.453125 19.1875 8.296875 \r\nz\r\n\" id=\"DejaVuSans-50\"/>\r\n       </defs>\r\n       <use xlink:href=\"#DejaVuSans-50\"/>\r\n       <use x=\"63.623047\" xlink:href=\"#DejaVuSans-48\"/>\r\n      </g>\r\n     </g>\r\n    </g>\r\n    <g id=\"xtick_6\">\r\n     <g id=\"line2d_6\">\r\n      <g>\r\n       <use style=\"stroke:#000000;stroke-width:0.8;\" x=\"457.268704\" xlink:href=\"#mb2fbdaf27c\" y=\"241.57125\"/>\r\n      </g>\r\n     </g>\r\n     <g id=\"text_6\">\r\n      <!-- 25 -->\r\n      <g transform=\"translate(450.906204 256.169687)scale(0.1 -0.1)\">\r\n       <use xlink:href=\"#DejaVuSans-50\"/>\r\n       <use x=\"63.623047\" xlink:href=\"#DejaVuSans-53\"/>\r\n      </g>\r\n     </g>\r\n    </g>\r\n    <g id=\"text_7\">\r\n     <!-- Değişken Önem Skorları -->\r\n     <g transform=\"translate(265.754687 271.35875)scale(0.1 -0.1)\">\r\n      <defs>\r\n       <path d=\"M 19.671875 64.796875 \r\nL 19.671875 8.109375 \r\nL 31.59375 8.109375 \r\nQ 46.6875 8.109375 53.6875 14.9375 \r\nQ 60.6875 21.78125 60.6875 36.53125 \r\nQ 60.6875 51.171875 53.6875 57.984375 \r\nQ 46.6875 64.796875 31.59375 64.796875 \r\nz\r\nM 9.8125 72.90625 \r\nL 30.078125 72.90625 \r\nQ 51.265625 72.90625 61.171875 64.09375 \r\nQ 71.09375 55.28125 71.09375 36.53125 \r\nQ 71.09375 17.671875 61.125 8.828125 \r\nQ 51.171875 0 30.078125 0 \r\nL 9.8125 0 \r\nz\r\n\" id=\"DejaVuSans-68\"/>\r\n       <path d=\"M 56.203125 29.59375 \r\nL 56.203125 25.203125 \r\nL 14.890625 25.203125 \r\nQ 15.484375 15.921875 20.484375 11.0625 \r\nQ 25.484375 6.203125 34.421875 6.203125 \r\nQ 39.59375 6.203125 44.453125 7.46875 \r\nQ 49.3125 8.734375 54.109375 11.28125 \r\nL 54.109375 2.78125 \r\nQ 49.265625 0.734375 44.1875 -0.34375 \r\nQ 39.109375 -1.421875 33.890625 -1.421875 \r\nQ 20.796875 -1.421875 13.15625 6.1875 \r\nQ 5.515625 13.8125 5.515625 26.8125 \r\nQ 5.515625 40.234375 12.765625 48.109375 \r\nQ 20.015625 56 32.328125 56 \r\nQ 43.359375 56 49.78125 48.890625 \r\nQ 56.203125 41.796875 56.203125 29.59375 \r\nz\r\nM 47.21875 32.234375 \r\nQ 47.125 39.59375 43.09375 43.984375 \r\nQ 39.0625 48.390625 32.421875 48.390625 \r\nQ 24.90625 48.390625 20.390625 44.140625 \r\nQ 15.875 39.890625 15.1875 32.171875 \r\nz\r\n\" id=\"DejaVuSans-101\"/>\r\n       <path d=\"M 45.40625 27.984375 \r\nQ 45.40625 37.75 41.375 43.109375 \r\nQ 37.359375 48.484375 30.078125 48.484375 \r\nQ 22.859375 48.484375 18.828125 43.109375 \r\nQ 14.796875 37.75 14.796875 27.984375 \r\nQ 14.796875 18.265625 18.828125 12.890625 \r\nQ 22.859375 7.515625 30.078125 7.515625 \r\nQ 37.359375 7.515625 41.375 12.890625 \r\nQ 45.40625 18.265625 45.40625 27.984375 \r\nz\r\nM 54.390625 6.78125 \r\nQ 54.390625 -7.171875 48.1875 -13.984375 \r\nQ 42 -20.796875 29.203125 -20.796875 \r\nQ 24.46875 -20.796875 20.265625 -20.09375 \r\nQ 16.0625 -19.390625 12.109375 -17.921875 \r\nL 12.109375 -9.1875 \r\nQ 16.0625 -11.328125 19.921875 -12.34375 \r\nQ 23.78125 -13.375 27.78125 -13.375 \r\nQ 36.625 -13.375 41.015625 -8.765625 \r\nQ 45.40625 -4.15625 45.40625 5.171875 \r\nL 45.40625 9.625 \r\nQ 42.625 4.78125 38.28125 2.390625 \r\nQ 33.9375 0 27.875 0 \r\nQ 17.828125 0 11.671875 7.65625 \r\nQ 5.515625 15.328125 5.515625 27.984375 \r\nQ 5.515625 40.671875 11.671875 48.328125 \r\nQ 17.828125 56 27.875 56 \r\nQ 33.9375 56 38.28125 53.609375 \r\nQ 42.625 51.21875 45.40625 46.390625 \r\nL 45.40625 54.6875 \r\nL 54.390625 54.6875 \r\nz\r\nM 16.46875 78.515625 \r\nL 22.234375 78.515625 \r\nQ 22.765625 74.859375 25.125 73.015625 \r\nQ 27.5 71.1875 31.75 71.1875 \r\nQ 35.953125 71.1875 38.296875 73 \r\nQ 40.640625 74.8125 41.265625 78.515625 \r\nL 47.03125 78.515625 \r\nQ 46.546875 71.53125 42.6875 68.015625 \r\nQ 38.828125 64.5 31.75 64.5 \r\nQ 24.671875 64.5 20.8125 68.015625 \r\nQ 16.953125 71.53125 16.46875 78.515625 \r\nz\r\n\" id=\"DejaVuSans-287\"/>\r\n       <path d=\"M 9.421875 54.6875 \r\nL 18.40625 54.6875 \r\nL 18.40625 0 \r\nL 9.421875 0 \r\nz\r\nM 9.421875 75.984375 \r\nL 18.40625 75.984375 \r\nL 18.40625 64.59375 \r\nL 9.421875 64.59375 \r\nz\r\n\" id=\"DejaVuSans-105\"/>\r\n       <path d=\"M 44.28125 53.078125 \r\nL 44.28125 44.578125 \r\nQ 40.484375 46.53125 36.375 47.5 \r\nQ 32.28125 48.484375 27.875 48.484375 \r\nQ 21.1875 48.484375 17.84375 46.4375 \r\nQ 14.5 44.390625 14.5 40.28125 \r\nQ 14.5 37.15625 16.890625 35.375 \r\nQ 19.28125 33.59375 26.515625 31.984375 \r\nL 29.59375 31.296875 \r\nQ 39.15625 29.25 43.1875 25.515625 \r\nQ 47.21875 21.78125 47.21875 15.09375 \r\nQ 47.21875 7.46875 41.1875 3.015625 \r\nQ 35.15625 -1.421875 24.609375 -1.421875 \r\nQ 20.21875 -1.421875 15.453125 -0.5625 \r\nQ 10.6875 0.296875 5.421875 2 \r\nL 5.421875 11.28125 \r\nQ 10.40625 8.6875 15.234375 7.390625 \r\nQ 20.0625 6.109375 24.8125 6.109375 \r\nQ 31.15625 6.109375 34.5625 8.28125 \r\nQ 37.984375 10.453125 37.984375 14.40625 \r\nQ 37.984375 18.0625 35.515625 20.015625 \r\nQ 33.0625 21.96875 24.703125 23.78125 \r\nL 21.578125 24.515625 \r\nQ 13.234375 26.265625 9.515625 29.90625 \r\nQ 5.8125 33.546875 5.8125 39.890625 \r\nQ 5.8125 47.609375 11.28125 51.796875 \r\nQ 16.75 56 26.8125 56 \r\nQ 31.78125 56 36.171875 55.265625 \r\nQ 40.578125 54.546875 44.28125 53.078125 \r\nz\r\nM 30.234375 0 \r\nQ 32.90625 -3.03125 34.21875 -5.59375 \r\nQ 35.546875 -8.15625 35.546875 -10.5 \r\nQ 35.546875 -14.84375 32.609375 -17.0625 \r\nQ 29.6875 -19.28125 23.921875 -19.28125 \r\nQ 21.6875 -19.28125 19.5625 -18.984375 \r\nQ 17.4375 -18.703125 15.328125 -18.109375 \r\nL 15.328125 -11.71875 \r\nQ 17 -12.546875 18.796875 -12.90625 \r\nQ 20.609375 -13.28125 22.90625 -13.28125 \r\nQ 25.78125 -13.28125 27.25 -12.109375 \r\nQ 28.71875 -10.9375 28.71875 -8.6875 \r\nQ 28.71875 -7.234375 27.65625 -5.109375 \r\nQ 26.609375 -2.984375 24.421875 0 \r\nz\r\n\" id=\"DejaVuSans-351\"/>\r\n       <path d=\"M 9.078125 75.984375 \r\nL 18.109375 75.984375 \r\nL 18.109375 31.109375 \r\nL 44.921875 54.6875 \r\nL 56.390625 54.6875 \r\nL 27.390625 29.109375 \r\nL 57.625 0 \r\nL 45.90625 0 \r\nL 18.109375 26.703125 \r\nL 18.109375 0 \r\nL 9.078125 0 \r\nz\r\n\" id=\"DejaVuSans-107\"/>\r\n       <path d=\"M 54.890625 33.015625 \r\nL 54.890625 0 \r\nL 45.90625 0 \r\nL 45.90625 32.71875 \r\nQ 45.90625 40.484375 42.875 44.328125 \r\nQ 39.84375 48.1875 33.796875 48.1875 \r\nQ 26.515625 48.1875 22.3125 43.546875 \r\nQ 18.109375 38.921875 18.109375 30.90625 \r\nL 18.109375 0 \r\nL 9.078125 0 \r\nL 9.078125 54.6875 \r\nL 18.109375 54.6875 \r\nL 18.109375 46.1875 \r\nQ 21.34375 51.125 25.703125 53.5625 \r\nQ 30.078125 56 35.796875 56 \r\nQ 45.21875 56 50.046875 50.171875 \r\nQ 54.890625 44.34375 54.890625 33.015625 \r\nz\r\n\" id=\"DejaVuSans-110\"/>\r\n       <path id=\"DejaVuSans-32\"/>\r\n       <path d=\"M 39.40625 66.21875 \r\nQ 28.65625 66.21875 22.328125 58.203125 \r\nQ 16.015625 50.203125 16.015625 36.375 \r\nQ 16.015625 22.609375 22.328125 14.59375 \r\nQ 28.65625 6.59375 39.40625 6.59375 \r\nQ 50.140625 6.59375 56.421875 14.59375 \r\nQ 62.703125 22.609375 62.703125 36.375 \r\nQ 62.703125 50.203125 56.421875 58.203125 \r\nQ 50.140625 66.21875 39.40625 66.21875 \r\nz\r\nM 39.40625 74.21875 \r\nQ 54.734375 74.21875 63.90625 63.9375 \r\nQ 73.09375 53.65625 73.09375 36.375 \r\nQ 73.09375 19.140625 63.90625 8.859375 \r\nQ 54.734375 -1.421875 39.40625 -1.421875 \r\nQ 24.03125 -1.421875 14.8125 8.828125 \r\nQ 5.609375 19.09375 5.609375 36.375 \r\nQ 5.609375 53.65625 14.8125 63.9375 \r\nQ 24.03125 74.21875 39.40625 74.21875 \r\nz\r\nM 43.96875 91.09375 \r\nL 53.875 91.09375 \r\nL 53.875 81.1875 \r\nL 43.96875 81.1875 \r\nz\r\nM 24.875 91.09375 \r\nL 34.78125 91.09375 \r\nL 34.78125 81.1875 \r\nL 24.875 81.1875 \r\nz\r\n\" id=\"DejaVuSans-214\"/>\r\n       <path d=\"M 52 44.1875 \r\nQ 55.375 50.25 60.0625 53.125 \r\nQ 64.75 56 71.09375 56 \r\nQ 79.640625 56 84.28125 50.015625 \r\nQ 88.921875 44.046875 88.921875 33.015625 \r\nL 88.921875 0 \r\nL 79.890625 0 \r\nL 79.890625 32.71875 \r\nQ 79.890625 40.578125 77.09375 44.375 \r\nQ 74.3125 48.1875 68.609375 48.1875 \r\nQ 61.625 48.1875 57.5625 43.546875 \r\nQ 53.515625 38.921875 53.515625 30.90625 \r\nL 53.515625 0 \r\nL 44.484375 0 \r\nL 44.484375 32.71875 \r\nQ 44.484375 40.625 41.703125 44.40625 \r\nQ 38.921875 48.1875 33.109375 48.1875 \r\nQ 26.21875 48.1875 22.15625 43.53125 \r\nQ 18.109375 38.875 18.109375 30.90625 \r\nL 18.109375 0 \r\nL 9.078125 0 \r\nL 9.078125 54.6875 \r\nL 18.109375 54.6875 \r\nL 18.109375 46.1875 \r\nQ 21.1875 51.21875 25.484375 53.609375 \r\nQ 29.78125 56 35.6875 56 \r\nQ 41.65625 56 45.828125 52.96875 \r\nQ 50 49.953125 52 44.1875 \r\nz\r\n\" id=\"DejaVuSans-109\"/>\r\n       <path d=\"M 53.515625 70.515625 \r\nL 53.515625 60.890625 \r\nQ 47.90625 63.578125 42.921875 64.890625 \r\nQ 37.9375 66.21875 33.296875 66.21875 \r\nQ 25.25 66.21875 20.875 63.09375 \r\nQ 16.5 59.96875 16.5 54.203125 \r\nQ 16.5 49.359375 19.40625 46.890625 \r\nQ 22.3125 44.4375 30.421875 42.921875 \r\nL 36.375 41.703125 \r\nQ 47.40625 39.59375 52.65625 34.296875 \r\nQ 57.90625 29 57.90625 20.125 \r\nQ 57.90625 9.515625 50.796875 4.046875 \r\nQ 43.703125 -1.421875 29.984375 -1.421875 \r\nQ 24.8125 -1.421875 18.96875 -0.25 \r\nQ 13.140625 0.921875 6.890625 3.21875 \r\nL 6.890625 13.375 \r\nQ 12.890625 10.015625 18.65625 8.296875 \r\nQ 24.421875 6.59375 29.984375 6.59375 \r\nQ 38.421875 6.59375 43.015625 9.90625 \r\nQ 47.609375 13.234375 47.609375 19.390625 \r\nQ 47.609375 24.75 44.3125 27.78125 \r\nQ 41.015625 30.8125 33.5 32.328125 \r\nL 27.484375 33.5 \r\nQ 16.453125 35.6875 11.515625 40.375 \r\nQ 6.59375 45.0625 6.59375 53.421875 \r\nQ 6.59375 63.09375 13.40625 68.65625 \r\nQ 20.21875 74.21875 32.171875 74.21875 \r\nQ 37.3125 74.21875 42.625 73.28125 \r\nQ 47.953125 72.359375 53.515625 70.515625 \r\nz\r\n\" id=\"DejaVuSans-83\"/>\r\n       <path d=\"M 30.609375 48.390625 \r\nQ 23.390625 48.390625 19.1875 42.75 \r\nQ 14.984375 37.109375 14.984375 27.296875 \r\nQ 14.984375 17.484375 19.15625 11.84375 \r\nQ 23.34375 6.203125 30.609375 6.203125 \r\nQ 37.796875 6.203125 41.984375 11.859375 \r\nQ 46.1875 17.53125 46.1875 27.296875 \r\nQ 46.1875 37.015625 41.984375 42.703125 \r\nQ 37.796875 48.390625 30.609375 48.390625 \r\nz\r\nM 30.609375 56 \r\nQ 42.328125 56 49.015625 48.375 \r\nQ 55.71875 40.765625 55.71875 27.296875 \r\nQ 55.71875 13.875 49.015625 6.21875 \r\nQ 42.328125 -1.421875 30.609375 -1.421875 \r\nQ 18.84375 -1.421875 12.171875 6.21875 \r\nQ 5.515625 13.875 5.515625 27.296875 \r\nQ 5.515625 40.765625 12.171875 48.375 \r\nQ 18.84375 56 30.609375 56 \r\nz\r\n\" id=\"DejaVuSans-111\"/>\r\n       <path d=\"M 41.109375 46.296875 \r\nQ 39.59375 47.171875 37.8125 47.578125 \r\nQ 36.03125 48 33.890625 48 \r\nQ 26.265625 48 22.1875 43.046875 \r\nQ 18.109375 38.09375 18.109375 28.8125 \r\nL 18.109375 0 \r\nL 9.078125 0 \r\nL 9.078125 54.6875 \r\nL 18.109375 54.6875 \r\nL 18.109375 46.1875 \r\nQ 20.953125 51.171875 25.484375 53.578125 \r\nQ 30.03125 56 36.53125 56 \r\nQ 37.453125 56 38.578125 55.875 \r\nQ 39.703125 55.765625 41.0625 55.515625 \r\nz\r\n\" id=\"DejaVuSans-114\"/>\r\n       <path d=\"M 9.421875 75.984375 \r\nL 18.40625 75.984375 \r\nL 18.40625 0 \r\nL 9.421875 0 \r\nz\r\n\" id=\"DejaVuSans-108\"/>\r\n       <path d=\"M 34.28125 27.484375 \r\nQ 23.390625 27.484375 19.1875 25 \r\nQ 14.984375 22.515625 14.984375 16.5 \r\nQ 14.984375 11.71875 18.140625 8.90625 \r\nQ 21.296875 6.109375 26.703125 6.109375 \r\nQ 34.1875 6.109375 38.703125 11.40625 \r\nQ 43.21875 16.703125 43.21875 25.484375 \r\nL 43.21875 27.484375 \r\nz\r\nM 52.203125 31.203125 \r\nL 52.203125 0 \r\nL 43.21875 0 \r\nL 43.21875 8.296875 \r\nQ 40.140625 3.328125 35.546875 0.953125 \r\nQ 30.953125 -1.421875 24.3125 -1.421875 \r\nQ 15.921875 -1.421875 10.953125 3.296875 \r\nQ 6 8.015625 6 15.921875 \r\nQ 6 25.140625 12.171875 29.828125 \r\nQ 18.359375 34.515625 30.609375 34.515625 \r\nL 43.21875 34.515625 \r\nL 43.21875 35.40625 \r\nQ 43.21875 41.609375 39.140625 45 \r\nQ 35.0625 48.390625 27.6875 48.390625 \r\nQ 23 48.390625 18.546875 47.265625 \r\nQ 14.109375 46.140625 10.015625 43.890625 \r\nL 10.015625 52.203125 \r\nQ 14.9375 54.109375 19.578125 55.046875 \r\nQ 24.21875 56 28.609375 56 \r\nQ 40.484375 56 46.34375 49.84375 \r\nQ 52.203125 43.703125 52.203125 31.203125 \r\nz\r\n\" id=\"DejaVuSans-97\"/>\r\n       <path d=\"M 9.421875 54.6875 \r\nL 18.40625 54.6875 \r\nL 18.40625 0 \r\nL 9.421875 0 \r\nz\r\nM 13.921875 56 \r\nz\r\n\" id=\"DejaVuSans-305\"/>\r\n      </defs>\r\n      <use xlink:href=\"#DejaVuSans-68\"/>\r\n      <use x=\"77.001953\" xlink:href=\"#DejaVuSans-101\"/>\r\n      <use x=\"138.525391\" xlink:href=\"#DejaVuSans-287\"/>\r\n      <use x=\"202.001953\" xlink:href=\"#DejaVuSans-105\"/>\r\n      <use x=\"229.785156\" xlink:href=\"#DejaVuSans-351\"/>\r\n      <use x=\"281.884766\" xlink:href=\"#DejaVuSans-107\"/>\r\n      <use x=\"336.169922\" xlink:href=\"#DejaVuSans-101\"/>\r\n      <use x=\"397.693359\" xlink:href=\"#DejaVuSans-110\"/>\r\n      <use x=\"461.072266\" xlink:href=\"#DejaVuSans-32\"/>\r\n      <use x=\"492.859375\" xlink:href=\"#DejaVuSans-214\"/>\r\n      <use x=\"571.570312\" xlink:href=\"#DejaVuSans-110\"/>\r\n      <use x=\"634.949219\" xlink:href=\"#DejaVuSans-101\"/>\r\n      <use x=\"696.472656\" xlink:href=\"#DejaVuSans-109\"/>\r\n      <use x=\"793.884766\" xlink:href=\"#DejaVuSans-32\"/>\r\n      <use x=\"825.671875\" xlink:href=\"#DejaVuSans-83\"/>\r\n      <use x=\"889.148438\" xlink:href=\"#DejaVuSans-107\"/>\r\n      <use x=\"943.433594\" xlink:href=\"#DejaVuSans-111\"/>\r\n      <use x=\"1004.615234\" xlink:href=\"#DejaVuSans-114\"/>\r\n      <use x=\"1045.728516\" xlink:href=\"#DejaVuSans-108\"/>\r\n      <use x=\"1073.511719\" xlink:href=\"#DejaVuSans-97\"/>\r\n      <use x=\"1134.791016\" xlink:href=\"#DejaVuSans-114\"/>\r\n      <use x=\"1175.904297\" xlink:href=\"#DejaVuSans-305\"/>\r\n     </g>\r\n    </g>\r\n   </g>\r\n   <g id=\"matplotlib.axis_2\">\r\n    <g id=\"ytick_1\">\r\n     <g id=\"line2d_7\">\r\n      <defs>\r\n       <path d=\"M 0 0 \r\nL -3.5 0 \r\n\" id=\"m35b26a3b3e\" style=\"stroke:#000000;stroke-width:0.8;\"/>\r\n      </defs>\r\n      <g>\r\n       <use style=\"stroke:#000000;stroke-width:0.8;\" x=\"158.539062\" xlink:href=\"#m35b26a3b3e\" y=\"37.72125\"/>\r\n      </g>\r\n     </g>\r\n     <g id=\"text_8\">\r\n      <!-- Glucose -->\r\n      <g transform=\"translate(111.695312 41.520469)scale(0.1 -0.1)\">\r\n       <defs>\r\n        <path d=\"M 59.515625 10.40625 \r\nL 59.515625 29.984375 \r\nL 43.40625 29.984375 \r\nL 43.40625 38.09375 \r\nL 69.28125 38.09375 \r\nL 69.28125 6.78125 \r\nQ 63.578125 2.734375 56.6875 0.65625 \r\nQ 49.8125 -1.421875 42 -1.421875 \r\nQ 24.90625 -1.421875 15.25 8.5625 \r\nQ 5.609375 18.5625 5.609375 36.375 \r\nQ 5.609375 54.25 15.25 64.234375 \r\nQ 24.90625 74.21875 42 74.21875 \r\nQ 49.125 74.21875 55.546875 72.453125 \r\nQ 61.96875 70.703125 67.390625 67.28125 \r\nL 67.390625 56.78125 \r\nQ 61.921875 61.421875 55.765625 63.765625 \r\nQ 49.609375 66.109375 42.828125 66.109375 \r\nQ 29.4375 66.109375 22.71875 58.640625 \r\nQ 16.015625 51.171875 16.015625 36.375 \r\nQ 16.015625 21.625 22.71875 14.15625 \r\nQ 29.4375 6.6875 42.828125 6.6875 \r\nQ 48.046875 6.6875 52.140625 7.59375 \r\nQ 56.25 8.5 59.515625 10.40625 \r\nz\r\n\" id=\"DejaVuSans-71\"/>\r\n        <path d=\"M 8.5 21.578125 \r\nL 8.5 54.6875 \r\nL 17.484375 54.6875 \r\nL 17.484375 21.921875 \r\nQ 17.484375 14.15625 20.5 10.265625 \r\nQ 23.53125 6.390625 29.59375 6.390625 \r\nQ 36.859375 6.390625 41.078125 11.03125 \r\nQ 45.3125 15.671875 45.3125 23.6875 \r\nL 45.3125 54.6875 \r\nL 54.296875 54.6875 \r\nL 54.296875 0 \r\nL 45.3125 0 \r\nL 45.3125 8.40625 \r\nQ 42.046875 3.421875 37.71875 1 \r\nQ 33.40625 -1.421875 27.6875 -1.421875 \r\nQ 18.265625 -1.421875 13.375 4.4375 \r\nQ 8.5 10.296875 8.5 21.578125 \r\nz\r\nM 31.109375 56 \r\nz\r\n\" id=\"DejaVuSans-117\"/>\r\n        <path d=\"M 48.78125 52.59375 \r\nL 48.78125 44.1875 \r\nQ 44.96875 46.296875 41.140625 47.34375 \r\nQ 37.3125 48.390625 33.40625 48.390625 \r\nQ 24.65625 48.390625 19.8125 42.84375 \r\nQ 14.984375 37.3125 14.984375 27.296875 \r\nQ 14.984375 17.28125 19.8125 11.734375 \r\nQ 24.65625 6.203125 33.40625 6.203125 \r\nQ 37.3125 6.203125 41.140625 7.25 \r\nQ 44.96875 8.296875 48.78125 10.40625 \r\nL 48.78125 2.09375 \r\nQ 45.015625 0.34375 40.984375 -0.53125 \r\nQ 36.96875 -1.421875 32.421875 -1.421875 \r\nQ 20.0625 -1.421875 12.78125 6.34375 \r\nQ 5.515625 14.109375 5.515625 27.296875 \r\nQ 5.515625 40.671875 12.859375 48.328125 \r\nQ 20.21875 56 33.015625 56 \r\nQ 37.15625 56 41.109375 55.140625 \r\nQ 45.0625 54.296875 48.78125 52.59375 \r\nz\r\n\" id=\"DejaVuSans-99\"/>\r\n        <path d=\"M 44.28125 53.078125 \r\nL 44.28125 44.578125 \r\nQ 40.484375 46.53125 36.375 47.5 \r\nQ 32.28125 48.484375 27.875 48.484375 \r\nQ 21.1875 48.484375 17.84375 46.4375 \r\nQ 14.5 44.390625 14.5 40.28125 \r\nQ 14.5 37.15625 16.890625 35.375 \r\nQ 19.28125 33.59375 26.515625 31.984375 \r\nL 29.59375 31.296875 \r\nQ 39.15625 29.25 43.1875 25.515625 \r\nQ 47.21875 21.78125 47.21875 15.09375 \r\nQ 47.21875 7.46875 41.1875 3.015625 \r\nQ 35.15625 -1.421875 24.609375 -1.421875 \r\nQ 20.21875 -1.421875 15.453125 -0.5625 \r\nQ 10.6875 0.296875 5.421875 2 \r\nL 5.421875 11.28125 \r\nQ 10.40625 8.6875 15.234375 7.390625 \r\nQ 20.0625 6.109375 24.8125 6.109375 \r\nQ 31.15625 6.109375 34.5625 8.28125 \r\nQ 37.984375 10.453125 37.984375 14.40625 \r\nQ 37.984375 18.0625 35.515625 20.015625 \r\nQ 33.0625 21.96875 24.703125 23.78125 \r\nL 21.578125 24.515625 \r\nQ 13.234375 26.265625 9.515625 29.90625 \r\nQ 5.8125 33.546875 5.8125 39.890625 \r\nQ 5.8125 47.609375 11.28125 51.796875 \r\nQ 16.75 56 26.8125 56 \r\nQ 31.78125 56 36.171875 55.265625 \r\nQ 40.578125 54.546875 44.28125 53.078125 \r\nz\r\n\" id=\"DejaVuSans-115\"/>\r\n       </defs>\r\n       <use xlink:href=\"#DejaVuSans-71\"/>\r\n       <use x=\"77.490234\" xlink:href=\"#DejaVuSans-108\"/>\r\n       <use x=\"105.273438\" xlink:href=\"#DejaVuSans-117\"/>\r\n       <use x=\"168.652344\" xlink:href=\"#DejaVuSans-99\"/>\r\n       <use x=\"223.632812\" xlink:href=\"#DejaVuSans-111\"/>\r\n       <use x=\"284.814453\" xlink:href=\"#DejaVuSans-115\"/>\r\n       <use x=\"336.914062\" xlink:href=\"#DejaVuSans-101\"/>\r\n      </g>\r\n     </g>\r\n    </g>\r\n    <g id=\"ytick_2\">\r\n     <g id=\"line2d_8\">\r\n      <g>\r\n       <use style=\"stroke:#000000;stroke-width:0.8;\" x=\"158.539062\" xlink:href=\"#m35b26a3b3e\" y=\"64.90125\"/>\r\n      </g>\r\n     </g>\r\n     <g id=\"text_9\">\r\n      <!-- BMI -->\r\n      <g transform=\"translate(133.1 68.700469)scale(0.1 -0.1)\">\r\n       <defs>\r\n        <path d=\"M 19.671875 34.8125 \r\nL 19.671875 8.109375 \r\nL 35.5 8.109375 \r\nQ 43.453125 8.109375 47.28125 11.40625 \r\nQ 51.125 14.703125 51.125 21.484375 \r\nQ 51.125 28.328125 47.28125 31.5625 \r\nQ 43.453125 34.8125 35.5 34.8125 \r\nz\r\nM 19.671875 64.796875 \r\nL 19.671875 42.828125 \r\nL 34.28125 42.828125 \r\nQ 41.5 42.828125 45.03125 45.53125 \r\nQ 48.578125 48.25 48.578125 53.8125 \r\nQ 48.578125 59.328125 45.03125 62.0625 \r\nQ 41.5 64.796875 34.28125 64.796875 \r\nz\r\nM 9.8125 72.90625 \r\nL 35.015625 72.90625 \r\nQ 46.296875 72.90625 52.390625 68.21875 \r\nQ 58.5 63.53125 58.5 54.890625 \r\nQ 58.5 48.1875 55.375 44.234375 \r\nQ 52.25 40.28125 46.1875 39.3125 \r\nQ 53.46875 37.75 57.5 32.78125 \r\nQ 61.53125 27.828125 61.53125 20.40625 \r\nQ 61.53125 10.640625 54.890625 5.3125 \r\nQ 48.25 0 35.984375 0 \r\nL 9.8125 0 \r\nz\r\n\" id=\"DejaVuSans-66\"/>\r\n        <path d=\"M 9.8125 72.90625 \r\nL 24.515625 72.90625 \r\nL 43.109375 23.296875 \r\nL 61.8125 72.90625 \r\nL 76.515625 72.90625 \r\nL 76.515625 0 \r\nL 66.890625 0 \r\nL 66.890625 64.015625 \r\nL 48.09375 14.015625 \r\nL 38.1875 14.015625 \r\nL 19.390625 64.015625 \r\nL 19.390625 0 \r\nL 9.8125 0 \r\nz\r\n\" id=\"DejaVuSans-77\"/>\r\n        <path d=\"M 9.8125 72.90625 \r\nL 19.671875 72.90625 \r\nL 19.671875 0 \r\nL 9.8125 0 \r\nz\r\n\" id=\"DejaVuSans-73\"/>\r\n       </defs>\r\n       <use xlink:href=\"#DejaVuSans-66\"/>\r\n       <use x=\"68.603516\" xlink:href=\"#DejaVuSans-77\"/>\r\n       <use x=\"154.882812\" xlink:href=\"#DejaVuSans-73\"/>\r\n      </g>\r\n     </g>\r\n    </g>\r\n    <g id=\"ytick_3\">\r\n     <g id=\"line2d_9\">\r\n      <g>\r\n       <use style=\"stroke:#000000;stroke-width:0.8;\" x=\"158.539062\" xlink:href=\"#m35b26a3b3e\" y=\"92.08125\"/>\r\n      </g>\r\n     </g>\r\n     <g id=\"text_10\">\r\n      <!-- Age -->\r\n      <g transform=\"translate(132.196875 95.880469)scale(0.1 -0.1)\">\r\n       <defs>\r\n        <path d=\"M 34.1875 63.1875 \r\nL 20.796875 26.90625 \r\nL 47.609375 26.90625 \r\nz\r\nM 28.609375 72.90625 \r\nL 39.796875 72.90625 \r\nL 67.578125 0 \r\nL 57.328125 0 \r\nL 50.6875 18.703125 \r\nL 17.828125 18.703125 \r\nL 11.1875 0 \r\nL 0.78125 0 \r\nz\r\n\" id=\"DejaVuSans-65\"/>\r\n        <path d=\"M 45.40625 27.984375 \r\nQ 45.40625 37.75 41.375 43.109375 \r\nQ 37.359375 48.484375 30.078125 48.484375 \r\nQ 22.859375 48.484375 18.828125 43.109375 \r\nQ 14.796875 37.75 14.796875 27.984375 \r\nQ 14.796875 18.265625 18.828125 12.890625 \r\nQ 22.859375 7.515625 30.078125 7.515625 \r\nQ 37.359375 7.515625 41.375 12.890625 \r\nQ 45.40625 18.265625 45.40625 27.984375 \r\nz\r\nM 54.390625 6.78125 \r\nQ 54.390625 -7.171875 48.1875 -13.984375 \r\nQ 42 -20.796875 29.203125 -20.796875 \r\nQ 24.46875 -20.796875 20.265625 -20.09375 \r\nQ 16.0625 -19.390625 12.109375 -17.921875 \r\nL 12.109375 -9.1875 \r\nQ 16.0625 -11.328125 19.921875 -12.34375 \r\nQ 23.78125 -13.375 27.78125 -13.375 \r\nQ 36.625 -13.375 41.015625 -8.765625 \r\nQ 45.40625 -4.15625 45.40625 5.171875 \r\nL 45.40625 9.625 \r\nQ 42.625 4.78125 38.28125 2.390625 \r\nQ 33.9375 0 27.875 0 \r\nQ 17.828125 0 11.671875 7.65625 \r\nQ 5.515625 15.328125 5.515625 27.984375 \r\nQ 5.515625 40.671875 11.671875 48.328125 \r\nQ 17.828125 56 27.875 56 \r\nQ 33.9375 56 38.28125 53.609375 \r\nQ 42.625 51.21875 45.40625 46.390625 \r\nL 45.40625 54.6875 \r\nL 54.390625 54.6875 \r\nz\r\n\" id=\"DejaVuSans-103\"/>\r\n       </defs>\r\n       <use xlink:href=\"#DejaVuSans-65\"/>\r\n       <use x=\"68.408203\" xlink:href=\"#DejaVuSans-103\"/>\r\n       <use x=\"131.884766\" xlink:href=\"#DejaVuSans-101\"/>\r\n      </g>\r\n     </g>\r\n    </g>\r\n    <g id=\"ytick_4\">\r\n     <g id=\"line2d_10\">\r\n      <g>\r\n       <use style=\"stroke:#000000;stroke-width:0.8;\" x=\"158.539062\" xlink:href=\"#m35b26a3b3e\" y=\"119.26125\"/>\r\n      </g>\r\n     </g>\r\n     <g id=\"text_11\">\r\n      <!-- DiabetesPedigreeFunction -->\r\n      <g transform=\"translate(21.13125 123.060469)scale(0.1 -0.1)\">\r\n       <defs>\r\n        <path d=\"M 48.6875 27.296875 \r\nQ 48.6875 37.203125 44.609375 42.84375 \r\nQ 40.53125 48.484375 33.40625 48.484375 \r\nQ 26.265625 48.484375 22.1875 42.84375 \r\nQ 18.109375 37.203125 18.109375 27.296875 \r\nQ 18.109375 17.390625 22.1875 11.75 \r\nQ 26.265625 6.109375 33.40625 6.109375 \r\nQ 40.53125 6.109375 44.609375 11.75 \r\nQ 48.6875 17.390625 48.6875 27.296875 \r\nz\r\nM 18.109375 46.390625 \r\nQ 20.953125 51.265625 25.265625 53.625 \r\nQ 29.59375 56 35.59375 56 \r\nQ 45.5625 56 51.78125 48.09375 \r\nQ 58.015625 40.1875 58.015625 27.296875 \r\nQ 58.015625 14.40625 51.78125 6.484375 \r\nQ 45.5625 -1.421875 35.59375 -1.421875 \r\nQ 29.59375 -1.421875 25.265625 0.953125 \r\nQ 20.953125 3.328125 18.109375 8.203125 \r\nL 18.109375 0 \r\nL 9.078125 0 \r\nL 9.078125 75.984375 \r\nL 18.109375 75.984375 \r\nz\r\n\" id=\"DejaVuSans-98\"/>\r\n        <path d=\"M 18.3125 70.21875 \r\nL 18.3125 54.6875 \r\nL 36.8125 54.6875 \r\nL 36.8125 47.703125 \r\nL 18.3125 47.703125 \r\nL 18.3125 18.015625 \r\nQ 18.3125 11.328125 20.140625 9.421875 \r\nQ 21.96875 7.515625 27.59375 7.515625 \r\nL 36.8125 7.515625 \r\nL 36.8125 0 \r\nL 27.59375 0 \r\nQ 17.1875 0 13.234375 3.875 \r\nQ 9.28125 7.765625 9.28125 18.015625 \r\nL 9.28125 47.703125 \r\nL 2.6875 47.703125 \r\nL 2.6875 54.6875 \r\nL 9.28125 54.6875 \r\nL 9.28125 70.21875 \r\nz\r\n\" id=\"DejaVuSans-116\"/>\r\n        <path d=\"M 19.671875 64.796875 \r\nL 19.671875 37.40625 \r\nL 32.078125 37.40625 \r\nQ 38.96875 37.40625 42.71875 40.96875 \r\nQ 46.484375 44.53125 46.484375 51.125 \r\nQ 46.484375 57.671875 42.71875 61.234375 \r\nQ 38.96875 64.796875 32.078125 64.796875 \r\nz\r\nM 9.8125 72.90625 \r\nL 32.078125 72.90625 \r\nQ 44.34375 72.90625 50.609375 67.359375 \r\nQ 56.890625 61.8125 56.890625 51.125 \r\nQ 56.890625 40.328125 50.609375 34.8125 \r\nQ 44.34375 29.296875 32.078125 29.296875 \r\nL 19.671875 29.296875 \r\nL 19.671875 0 \r\nL 9.8125 0 \r\nz\r\n\" id=\"DejaVuSans-80\"/>\r\n        <path d=\"M 45.40625 46.390625 \r\nL 45.40625 75.984375 \r\nL 54.390625 75.984375 \r\nL 54.390625 0 \r\nL 45.40625 0 \r\nL 45.40625 8.203125 \r\nQ 42.578125 3.328125 38.25 0.953125 \r\nQ 33.9375 -1.421875 27.875 -1.421875 \r\nQ 17.96875 -1.421875 11.734375 6.484375 \r\nQ 5.515625 14.40625 5.515625 27.296875 \r\nQ 5.515625 40.1875 11.734375 48.09375 \r\nQ 17.96875 56 27.875 56 \r\nQ 33.9375 56 38.25 53.625 \r\nQ 42.578125 51.265625 45.40625 46.390625 \r\nz\r\nM 14.796875 27.296875 \r\nQ 14.796875 17.390625 18.875 11.75 \r\nQ 22.953125 6.109375 30.078125 6.109375 \r\nQ 37.203125 6.109375 41.296875 11.75 \r\nQ 45.40625 17.390625 45.40625 27.296875 \r\nQ 45.40625 37.203125 41.296875 42.84375 \r\nQ 37.203125 48.484375 30.078125 48.484375 \r\nQ 22.953125 48.484375 18.875 42.84375 \r\nQ 14.796875 37.203125 14.796875 27.296875 \r\nz\r\n\" id=\"DejaVuSans-100\"/>\r\n        <path d=\"M 9.8125 72.90625 \r\nL 51.703125 72.90625 \r\nL 51.703125 64.59375 \r\nL 19.671875 64.59375 \r\nL 19.671875 43.109375 \r\nL 48.578125 43.109375 \r\nL 48.578125 34.8125 \r\nL 19.671875 34.8125 \r\nL 19.671875 0 \r\nL 9.8125 0 \r\nz\r\n\" id=\"DejaVuSans-70\"/>\r\n       </defs>\r\n       <use xlink:href=\"#DejaVuSans-68\"/>\r\n       <use x=\"77.001953\" xlink:href=\"#DejaVuSans-105\"/>\r\n       <use x=\"104.785156\" xlink:href=\"#DejaVuSans-97\"/>\r\n       <use x=\"166.064453\" xlink:href=\"#DejaVuSans-98\"/>\r\n       <use x=\"229.541016\" xlink:href=\"#DejaVuSans-101\"/>\r\n       <use x=\"291.064453\" xlink:href=\"#DejaVuSans-116\"/>\r\n       <use x=\"330.273438\" xlink:href=\"#DejaVuSans-101\"/>\r\n       <use x=\"391.796875\" xlink:href=\"#DejaVuSans-115\"/>\r\n       <use x=\"443.896484\" xlink:href=\"#DejaVuSans-80\"/>\r\n       <use x=\"500.574219\" xlink:href=\"#DejaVuSans-101\"/>\r\n       <use x=\"562.097656\" xlink:href=\"#DejaVuSans-100\"/>\r\n       <use x=\"625.574219\" xlink:href=\"#DejaVuSans-105\"/>\r\n       <use x=\"653.357422\" xlink:href=\"#DejaVuSans-103\"/>\r\n       <use x=\"716.833984\" xlink:href=\"#DejaVuSans-114\"/>\r\n       <use x=\"755.697266\" xlink:href=\"#DejaVuSans-101\"/>\r\n       <use x=\"817.220703\" xlink:href=\"#DejaVuSans-101\"/>\r\n       <use x=\"878.744141\" xlink:href=\"#DejaVuSans-70\"/>\r\n       <use x=\"930.763672\" xlink:href=\"#DejaVuSans-117\"/>\r\n       <use x=\"994.142578\" xlink:href=\"#DejaVuSans-110\"/>\r\n       <use x=\"1057.521484\" xlink:href=\"#DejaVuSans-99\"/>\r\n       <use x=\"1112.501953\" xlink:href=\"#DejaVuSans-116\"/>\r\n       <use x=\"1151.710938\" xlink:href=\"#DejaVuSans-105\"/>\r\n       <use x=\"1179.494141\" xlink:href=\"#DejaVuSans-111\"/>\r\n       <use x=\"1240.675781\" xlink:href=\"#DejaVuSans-110\"/>\r\n      </g>\r\n     </g>\r\n    </g>\r\n    <g id=\"ytick_5\">\r\n     <g id=\"line2d_11\">\r\n      <g>\r\n       <use style=\"stroke:#000000;stroke-width:0.8;\" x=\"158.539062\" xlink:href=\"#m35b26a3b3e\" y=\"146.44125\"/>\r\n      </g>\r\n     </g>\r\n     <g id=\"text_12\">\r\n      <!-- Pregnancies -->\r\n      <g transform=\"translate(90.854687 150.240469)scale(0.1 -0.1)\">\r\n       <use xlink:href=\"#DejaVuSans-80\"/>\r\n       <use x=\"58.552734\" xlink:href=\"#DejaVuSans-114\"/>\r\n       <use x=\"97.416016\" xlink:href=\"#DejaVuSans-101\"/>\r\n       <use x=\"158.939453\" xlink:href=\"#DejaVuSans-103\"/>\r\n       <use x=\"222.416016\" xlink:href=\"#DejaVuSans-110\"/>\r\n       <use x=\"285.794922\" xlink:href=\"#DejaVuSans-97\"/>\r\n       <use x=\"347.074219\" xlink:href=\"#DejaVuSans-110\"/>\r\n       <use x=\"410.453125\" xlink:href=\"#DejaVuSans-99\"/>\r\n       <use x=\"465.433594\" xlink:href=\"#DejaVuSans-105\"/>\r\n       <use x=\"493.216797\" xlink:href=\"#DejaVuSans-101\"/>\r\n       <use x=\"554.740234\" xlink:href=\"#DejaVuSans-115\"/>\r\n      </g>\r\n     </g>\r\n    </g>\r\n    <g id=\"ytick_6\">\r\n     <g id=\"line2d_12\">\r\n      <g>\r\n       <use style=\"stroke:#000000;stroke-width:0.8;\" x=\"158.539062\" xlink:href=\"#m35b26a3b3e\" y=\"173.62125\"/>\r\n      </g>\r\n     </g>\r\n     <g id=\"text_13\">\r\n      <!-- BloodPressure -->\r\n      <g transform=\"translate(80.625 177.420469)scale(0.1 -0.1)\">\r\n       <use xlink:href=\"#DejaVuSans-66\"/>\r\n       <use x=\"68.603516\" xlink:href=\"#DejaVuSans-108\"/>\r\n       <use x=\"96.386719\" xlink:href=\"#DejaVuSans-111\"/>\r\n       <use x=\"157.568359\" xlink:href=\"#DejaVuSans-111\"/>\r\n       <use x=\"218.75\" xlink:href=\"#DejaVuSans-100\"/>\r\n       <use x=\"282.226562\" xlink:href=\"#DejaVuSans-80\"/>\r\n       <use x=\"340.779297\" xlink:href=\"#DejaVuSans-114\"/>\r\n       <use x=\"379.642578\" xlink:href=\"#DejaVuSans-101\"/>\r\n       <use x=\"441.166016\" xlink:href=\"#DejaVuSans-115\"/>\r\n       <use x=\"493.265625\" xlink:href=\"#DejaVuSans-115\"/>\r\n       <use x=\"545.365234\" xlink:href=\"#DejaVuSans-117\"/>\r\n       <use x=\"608.744141\" xlink:href=\"#DejaVuSans-114\"/>\r\n       <use x=\"647.607422\" xlink:href=\"#DejaVuSans-101\"/>\r\n      </g>\r\n     </g>\r\n    </g>\r\n    <g id=\"ytick_7\">\r\n     <g id=\"line2d_13\">\r\n      <g>\r\n       <use style=\"stroke:#000000;stroke-width:0.8;\" x=\"158.539062\" xlink:href=\"#m35b26a3b3e\" y=\"200.80125\"/>\r\n      </g>\r\n     </g>\r\n     <g id=\"text_14\">\r\n      <!-- SkinThickness -->\r\n      <g transform=\"translate(80.8625 204.600469)scale(0.1 -0.1)\">\r\n       <defs>\r\n        <path d=\"M -0.296875 72.90625 \r\nL 61.375 72.90625 \r\nL 61.375 64.59375 \r\nL 35.5 64.59375 \r\nL 35.5 0 \r\nL 25.59375 0 \r\nL 25.59375 64.59375 \r\nL -0.296875 64.59375 \r\nz\r\n\" id=\"DejaVuSans-84\"/>\r\n        <path d=\"M 54.890625 33.015625 \r\nL 54.890625 0 \r\nL 45.90625 0 \r\nL 45.90625 32.71875 \r\nQ 45.90625 40.484375 42.875 44.328125 \r\nQ 39.84375 48.1875 33.796875 48.1875 \r\nQ 26.515625 48.1875 22.3125 43.546875 \r\nQ 18.109375 38.921875 18.109375 30.90625 \r\nL 18.109375 0 \r\nL 9.078125 0 \r\nL 9.078125 75.984375 \r\nL 18.109375 75.984375 \r\nL 18.109375 46.1875 \r\nQ 21.34375 51.125 25.703125 53.5625 \r\nQ 30.078125 56 35.796875 56 \r\nQ 45.21875 56 50.046875 50.171875 \r\nQ 54.890625 44.34375 54.890625 33.015625 \r\nz\r\n\" id=\"DejaVuSans-104\"/>\r\n       </defs>\r\n       <use xlink:href=\"#DejaVuSans-83\"/>\r\n       <use x=\"63.476562\" xlink:href=\"#DejaVuSans-107\"/>\r\n       <use x=\"121.386719\" xlink:href=\"#DejaVuSans-105\"/>\r\n       <use x=\"149.169922\" xlink:href=\"#DejaVuSans-110\"/>\r\n       <use x=\"212.548828\" xlink:href=\"#DejaVuSans-84\"/>\r\n       <use x=\"273.632812\" xlink:href=\"#DejaVuSans-104\"/>\r\n       <use x=\"337.011719\" xlink:href=\"#DejaVuSans-105\"/>\r\n       <use x=\"364.794922\" xlink:href=\"#DejaVuSans-99\"/>\r\n       <use x=\"419.775391\" xlink:href=\"#DejaVuSans-107\"/>\r\n       <use x=\"477.685547\" xlink:href=\"#DejaVuSans-110\"/>\r\n       <use x=\"541.064453\" xlink:href=\"#DejaVuSans-101\"/>\r\n       <use x=\"602.587891\" xlink:href=\"#DejaVuSans-115\"/>\r\n       <use x=\"654.6875\" xlink:href=\"#DejaVuSans-115\"/>\r\n      </g>\r\n     </g>\r\n    </g>\r\n    <g id=\"ytick_8\">\r\n     <g id=\"line2d_14\">\r\n      <g>\r\n       <use style=\"stroke:#000000;stroke-width:0.8;\" x=\"158.539062\" xlink:href=\"#m35b26a3b3e\" y=\"227.98125\"/>\r\n      </g>\r\n     </g>\r\n     <g id=\"text_15\">\r\n      <!-- Insulin -->\r\n      <g transform=\"translate(118.810937 231.780469)scale(0.1 -0.1)\">\r\n       <use xlink:href=\"#DejaVuSans-73\"/>\r\n       <use x=\"29.492188\" xlink:href=\"#DejaVuSans-110\"/>\r\n       <use x=\"92.871094\" xlink:href=\"#DejaVuSans-115\"/>\r\n       <use x=\"144.970703\" xlink:href=\"#DejaVuSans-117\"/>\r\n       <use x=\"208.349609\" xlink:href=\"#DejaVuSans-108\"/>\r\n       <use x=\"236.132812\" xlink:href=\"#DejaVuSans-105\"/>\r\n       <use x=\"263.916016\" xlink:href=\"#DejaVuSans-110\"/>\r\n      </g>\r\n     </g>\r\n    </g>\r\n    <g id=\"text_16\">\r\n     <!-- Değişkenler -->\r\n     <g transform=\"translate(15.051562 162.42625)rotate(-90)scale(0.1 -0.1)\">\r\n      <use xlink:href=\"#DejaVuSans-68\"/>\r\n      <use x=\"77.001953\" xlink:href=\"#DejaVuSans-101\"/>\r\n      <use x=\"138.525391\" xlink:href=\"#DejaVuSans-287\"/>\r\n      <use x=\"202.001953\" xlink:href=\"#DejaVuSans-105\"/>\r\n      <use x=\"229.785156\" xlink:href=\"#DejaVuSans-351\"/>\r\n      <use x=\"281.884766\" xlink:href=\"#DejaVuSans-107\"/>\r\n      <use x=\"336.169922\" xlink:href=\"#DejaVuSans-101\"/>\r\n      <use x=\"397.693359\" xlink:href=\"#DejaVuSans-110\"/>\r\n      <use x=\"461.072266\" xlink:href=\"#DejaVuSans-108\"/>\r\n      <use x=\"488.855469\" xlink:href=\"#DejaVuSans-101\"/>\r\n      <use x=\"550.378906\" xlink:href=\"#DejaVuSans-114\"/>\r\n     </g>\r\n    </g>\r\n   </g>\r\n   <g id=\"line2d_15\">\r\n    <path clip-path=\"url(#pa628d5148a)\" d=\"M 0 0 \r\n\" style=\"fill:none;stroke:#424242;stroke-linecap:square;stroke-width:2.7;\"/>\r\n   </g>\r\n   <g id=\"line2d_16\">\r\n    <path clip-path=\"url(#pa628d5148a)\" d=\"M 0 0 \r\n\" style=\"fill:none;stroke:#424242;stroke-linecap:square;stroke-width:2.7;\"/>\r\n   </g>\r\n   <g id=\"line2d_17\">\r\n    <path clip-path=\"url(#pa628d5148a)\" d=\"M 0 0 \r\n\" style=\"fill:none;stroke:#424242;stroke-linecap:square;stroke-width:2.7;\"/>\r\n   </g>\r\n   <g id=\"line2d_18\">\r\n    <path clip-path=\"url(#pa628d5148a)\" d=\"M 0 0 \r\n\" style=\"fill:none;stroke:#424242;stroke-linecap:square;stroke-width:2.7;\"/>\r\n   </g>\r\n   <g id=\"line2d_19\">\r\n    <path clip-path=\"url(#pa628d5148a)\" d=\"M 0 0 \r\n\" style=\"fill:none;stroke:#424242;stroke-linecap:square;stroke-width:2.7;\"/>\r\n   </g>\r\n   <g id=\"line2d_20\">\r\n    <path clip-path=\"url(#pa628d5148a)\" d=\"M 0 0 \r\n\" style=\"fill:none;stroke:#424242;stroke-linecap:square;stroke-width:2.7;\"/>\r\n   </g>\r\n   <g id=\"line2d_21\">\r\n    <path clip-path=\"url(#pa628d5148a)\" d=\"M 0 0 \r\n\" style=\"fill:none;stroke:#424242;stroke-linecap:square;stroke-width:2.7;\"/>\r\n   </g>\r\n   <g id=\"line2d_22\">\r\n    <path clip-path=\"url(#pa628d5148a)\" d=\"M 0 0 \r\n\" style=\"fill:none;stroke:#424242;stroke-linecap:square;stroke-width:2.7;\"/>\r\n   </g>\r\n   <g id=\"patch_11\">\r\n    <path d=\"M 158.539062 241.57125 \r\nL 158.539062 24.13125 \r\n\" style=\"fill:none;stroke:#000000;stroke-linecap:square;stroke-linejoin:miter;stroke-width:0.8;\"/>\r\n   </g>\r\n   <g id=\"patch_12\">\r\n    <path d=\"M 493.339063 241.57125 \r\nL 493.339063 24.13125 \r\n\" style=\"fill:none;stroke:#000000;stroke-linecap:square;stroke-linejoin:miter;stroke-width:0.8;\"/>\r\n   </g>\r\n   <g id=\"patch_13\">\r\n    <path d=\"M 158.539062 241.57125 \r\nL 493.339063 241.57125 \r\n\" style=\"fill:none;stroke:#000000;stroke-linecap:square;stroke-linejoin:miter;stroke-width:0.8;\"/>\r\n   </g>\r\n   <g id=\"patch_14\">\r\n    <path d=\"M 158.539062 24.13125 \r\nL 493.339063 24.13125 \r\n\" style=\"fill:none;stroke:#000000;stroke-linecap:square;stroke-linejoin:miter;stroke-width:0.8;\"/>\r\n   </g>\r\n   <g id=\"text_17\">\r\n    <!-- Değişken Önem Düzeyleri -->\r\n    <g transform=\"translate(248.091875 18.13125)scale(0.12 -0.12)\">\r\n     <defs>\r\n      <path d=\"M 8.5 21.578125 \r\nL 8.5 54.6875 \r\nL 17.484375 54.6875 \r\nL 17.484375 21.921875 \r\nQ 17.484375 14.15625 20.5 10.265625 \r\nQ 23.53125 6.390625 29.59375 6.390625 \r\nQ 36.859375 6.390625 41.078125 11.03125 \r\nQ 45.3125 15.671875 45.3125 23.6875 \r\nL 45.3125 54.6875 \r\nL 54.296875 54.6875 \r\nL 54.296875 0 \r\nL 45.3125 0 \r\nL 45.3125 8.40625 \r\nQ 42.046875 3.421875 37.71875 1 \r\nQ 33.40625 -1.421875 27.6875 -1.421875 \r\nQ 18.265625 -1.421875 13.375 4.4375 \r\nQ 8.5 10.296875 8.5 21.578125 \r\nz\r\nM 31.109375 56 \r\nz\r\nM 35.59375 75.78125 \r\nL 45.5 75.78125 \r\nL 45.5 65.921875 \r\nL 35.59375 65.921875 \r\nz\r\nM 16.5 75.78125 \r\nL 26.40625 75.78125 \r\nL 26.40625 65.921875 \r\nL 16.5 65.921875 \r\nz\r\n\" id=\"DejaVuSans-252\"/>\r\n      <path d=\"M 5.515625 54.6875 \r\nL 48.1875 54.6875 \r\nL 48.1875 46.484375 \r\nL 14.40625 7.171875 \r\nL 48.1875 7.171875 \r\nL 48.1875 0 \r\nL 4.296875 0 \r\nL 4.296875 8.203125 \r\nL 38.09375 47.515625 \r\nL 5.515625 47.515625 \r\nz\r\n\" id=\"DejaVuSans-122\"/>\r\n      <path d=\"M 32.171875 -5.078125 \r\nQ 28.375 -14.84375 24.75 -17.8125 \r\nQ 21.140625 -20.796875 15.09375 -20.796875 \r\nL 7.90625 -20.796875 \r\nL 7.90625 -13.28125 \r\nL 13.1875 -13.28125 \r\nQ 16.890625 -13.28125 18.9375 -11.515625 \r\nQ 21 -9.765625 23.484375 -3.21875 \r\nL 25.09375 0.875 \r\nL 2.984375 54.6875 \r\nL 12.5 54.6875 \r\nL 29.59375 11.921875 \r\nL 46.6875 54.6875 \r\nL 56.203125 54.6875 \r\nz\r\n\" id=\"DejaVuSans-121\"/>\r\n     </defs>\r\n     <use xlink:href=\"#DejaVuSans-68\"/>\r\n     <use x=\"77.001953\" xlink:href=\"#DejaVuSans-101\"/>\r\n     <use x=\"138.525391\" xlink:href=\"#DejaVuSans-287\"/>\r\n     <use x=\"202.001953\" xlink:href=\"#DejaVuSans-105\"/>\r\n     <use x=\"229.785156\" xlink:href=\"#DejaVuSans-351\"/>\r\n     <use x=\"281.884766\" xlink:href=\"#DejaVuSans-107\"/>\r\n     <use x=\"336.169922\" xlink:href=\"#DejaVuSans-101\"/>\r\n     <use x=\"397.693359\" xlink:href=\"#DejaVuSans-110\"/>\r\n     <use x=\"461.072266\" xlink:href=\"#DejaVuSans-32\"/>\r\n     <use x=\"492.859375\" xlink:href=\"#DejaVuSans-214\"/>\r\n     <use x=\"571.570312\" xlink:href=\"#DejaVuSans-110\"/>\r\n     <use x=\"634.949219\" xlink:href=\"#DejaVuSans-101\"/>\r\n     <use x=\"696.472656\" xlink:href=\"#DejaVuSans-109\"/>\r\n     <use x=\"793.884766\" xlink:href=\"#DejaVuSans-32\"/>\r\n     <use x=\"825.671875\" xlink:href=\"#DejaVuSans-68\"/>\r\n     <use x=\"902.673828\" xlink:href=\"#DejaVuSans-252\"/>\r\n     <use x=\"966.052734\" xlink:href=\"#DejaVuSans-122\"/>\r\n     <use x=\"1018.542969\" xlink:href=\"#DejaVuSans-101\"/>\r\n     <use x=\"1080.066406\" xlink:href=\"#DejaVuSans-121\"/>\r\n     <use x=\"1139.246094\" xlink:href=\"#DejaVuSans-108\"/>\r\n     <use x=\"1167.029297\" xlink:href=\"#DejaVuSans-101\"/>\r\n     <use x=\"1228.552734\" xlink:href=\"#DejaVuSans-114\"/>\r\n     <use x=\"1269.666016\" xlink:href=\"#DejaVuSans-105\"/>\r\n    </g>\r\n   </g>\r\n  </g>\r\n </g>\r\n <defs>\r\n  <clipPath id=\"pa628d5148a\">\r\n   <rect height=\"217.44\" width=\"334.8\" x=\"158.539062\" y=\"24.13125\"/>\r\n  </clipPath>\r\n </defs>\r\n</svg>\r\n",
      "image/png": "[encoded data removed]"
     },
     "metadata": {
      "needs_background": "light"
     }
    }
   ],
   "source": [
    "feature_imp = pd.Series(catb_tuned.feature_importances_, index=X_train.columns).sort_values(ascending=False)\n",
    "\n",
    "sns.barplot(x=feature_imp, y=feature_imp.index)\n",
    "plt.xlabel('Değişken Önem Skorları')\n",
    "plt.ylabel('Değişkenler')\n",
    "plt.title(\"Değişken Önem Düzeyleri\")\n",
    "plt.show()"
   ]
  },
  {
   "cell_type": "code",
   "execution_count": null,
   "metadata": {},
   "outputs": [],
   "source": [
    "# SON"
   ]
  }
 ]
}