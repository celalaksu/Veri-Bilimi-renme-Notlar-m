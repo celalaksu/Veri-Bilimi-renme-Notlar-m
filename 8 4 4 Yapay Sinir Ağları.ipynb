{
 "metadata": {
  "language_info": {
   "codemirror_mode": {
    "name": "ipython",
    "version": 3
   },
   "file_extension": ".py",
   "mimetype": "text/x-python",
   "name": "python",
   "nbconvert_exporter": "python",
   "pygments_lexer": "ipython3",
   "version": "3.7.4-final"
  },
  "orig_nbformat": 2,
  "kernelspec": {
   "name": "python3",
   "display_name": "Python 3"
  }
 },
 "nbformat": 4,
 "nbformat_minor": 2,
 "cells": [
  {
   "source": [
    "# YAPAY SİNİR AĞLARI"
   ],
   "cell_type": "markdown",
   "metadata": {}
  },
  {
   "cell_type": "code",
   "execution_count": 1,
   "metadata": {},
   "outputs": [],
   "source": [
    "import numpy as np \n",
    "import pandas as pd \n",
    "import statsmodels.api as sm \n",
    "import seaborn as sns \n",
    "import matplotlib.pyplot as plt \n",
    "from sklearn.preprocessing import scale, StandardScaler\n",
    "from sklearn.model_selection import train_test_split, GridSearchCV, cross_val_score\n",
    "from sklearn.metrics import confusion_matrix, accuracy_score, mean_squared_error, r2_score, roc_auc_score, roc_curve, classification_report "
   ]
  },
  {
   "cell_type": "code",
   "execution_count": 9,
   "metadata": {},
   "outputs": [],
   "source": [
    "from sklearn.neural_network import MLPClassifier"
   ]
  },
  {
   "cell_type": "code",
   "execution_count": 2,
   "metadata": {},
   "outputs": [
    {
     "output_type": "execute_result",
     "data": {
      "text/plain": [
       "   Pregnancies  Glucose  BloodPressure  SkinThickness  Insulin   BMI  \\\n",
       "0            6      148             72             35        0  33.6   \n",
       "1            1       85             66             29        0  26.6   \n",
       "2            8      183             64              0        0  23.3   \n",
       "3            1       89             66             23       94  28.1   \n",
       "4            0      137             40             35      168  43.1   \n",
       "\n",
       "   DiabetesPedigreeFunction  Age  Outcome  \n",
       "0                     0.627   50        1  \n",
       "1                     0.351   31        0  \n",
       "2                     0.672   32        1  \n",
       "3                     0.167   21        0  \n",
       "4                     2.288   33        1  "
      ],
      "text/html": "<div>\n<style scoped>\n    .dataframe tbody tr th:only-of-type {\n        vertical-align: middle;\n    }\n\n    .dataframe tbody tr th {\n        vertical-align: top;\n    }\n\n    .dataframe thead th {\n        text-align: right;\n    }\n</style>\n<table border=\"1\" class=\"dataframe\">\n  <thead>\n    <tr style=\"text-align: right;\">\n      <th></th>\n      <th>Pregnancies</th>\n      <th>Glucose</th>\n      <th>BloodPressure</th>\n      <th>SkinThickness</th>\n      <th>Insulin</th>\n      <th>BMI</th>\n      <th>DiabetesPedigreeFunction</th>\n      <th>Age</th>\n      <th>Outcome</th>\n    </tr>\n  </thead>\n  <tbody>\n    <tr>\n      <td>0</td>\n      <td>6</td>\n      <td>148</td>\n      <td>72</td>\n      <td>35</td>\n      <td>0</td>\n      <td>33.6</td>\n      <td>0.627</td>\n      <td>50</td>\n      <td>1</td>\n    </tr>\n    <tr>\n      <td>1</td>\n      <td>1</td>\n      <td>85</td>\n      <td>66</td>\n      <td>29</td>\n      <td>0</td>\n      <td>26.6</td>\n      <td>0.351</td>\n      <td>31</td>\n      <td>0</td>\n    </tr>\n    <tr>\n      <td>2</td>\n      <td>8</td>\n      <td>183</td>\n      <td>64</td>\n      <td>0</td>\n      <td>0</td>\n      <td>23.3</td>\n      <td>0.672</td>\n      <td>32</td>\n      <td>1</td>\n    </tr>\n    <tr>\n      <td>3</td>\n      <td>1</td>\n      <td>89</td>\n      <td>66</td>\n      <td>23</td>\n      <td>94</td>\n      <td>28.1</td>\n      <td>0.167</td>\n      <td>21</td>\n      <td>0</td>\n    </tr>\n    <tr>\n      <td>4</td>\n      <td>0</td>\n      <td>137</td>\n      <td>40</td>\n      <td>35</td>\n      <td>168</td>\n      <td>43.1</td>\n      <td>2.288</td>\n      <td>33</td>\n      <td>1</td>\n    </tr>\n  </tbody>\n</table>\n</div>"
     },
     "metadata": {},
     "execution_count": 2
    }
   ],
   "source": [
    "df = pd.read_csv(\"verisetleri\\diabetes.csv\")\n",
    "df.head()"
   ]
  },
  {
   "cell_type": "code",
   "execution_count": 3,
   "metadata": {},
   "outputs": [],
   "source": [
    "y = df[\"Outcome\"]\n",
    "X = df.drop([\"Outcome\"], axis=1)\n",
    "X_train, X_test, y_train, y_test = train_test_split(X, y, test_size=0.30, random_state=42)"
   ]
  },
  {
   "cell_type": "code",
   "execution_count": 4,
   "metadata": {},
   "outputs": [],
   "source": [
    "# MODEL & TAHMİN"
   ]
  },
  {
   "cell_type": "code",
   "execution_count": 10,
   "metadata": {},
   "outputs": [],
   "source": [
    "mlpc_model = MLPClassifier().fit(X_train, y_train)"
   ]
  },
  {
   "cell_type": "code",
   "execution_count": 12,
   "metadata": {},
   "outputs": [
    {
     "output_type": "execute_result",
     "data": {
      "text/plain": [
       "[array([[ 4.08832745e-03, -3.50596578e-03, -1.11390242e-01,\n",
       "         -2.55935832e-05,  2.95075300e-01,  9.01259837e-02,\n",
       "          4.08175659e-02, -3.15907690e-02,  9.63614156e-03,\n",
       "          7.41822862e-02, -2.66768037e-02, -1.33709473e-01,\n",
       "         -6.42064466e-02,  6.15612226e-03,  4.11717974e-11,\n",
       "          3.69768848e-01, -1.41115362e-01,  1.96163432e-01,\n",
       "         -6.54395692e-02, -1.47397557e-01, -7.64726576e-03,\n",
       "          9.65948194e-03,  1.23467652e-01, -1.22836329e-01,\n",
       "          2.15378643e-02,  1.64359344e-01, -1.87092364e-01,\n",
       "          6.86221063e-02, -1.19827261e-01, -6.42210175e-02,\n",
       "         -9.86279121e-02, -6.65289962e-03, -5.50863042e-02,\n",
       "         -6.49873522e-02,  6.29042749e-03,  1.66075992e-01,\n",
       "          2.33135758e-01, -1.34082745e-01,  6.44152084e-02,\n",
       "          1.62768731e-01, -4.24120196e-05, -6.45990445e-02,\n",
       "         -1.90602411e-01,  1.72417515e-01, -7.19360155e-02,\n",
       "          1.68111655e-01, -2.54823963e-02,  2.63142321e-03,\n",
       "         -1.29936995e-01, -1.71490859e-02, -2.41344475e-01,\n",
       "          1.95825961e-01,  1.85892607e-01, -2.19850423e-01,\n",
       "          6.35816803e-02, -1.70328508e-01, -5.66860097e-02,\n",
       "          1.90799682e-01, -1.70015393e-01, -1.65380004e-01,\n",
       "         -1.84630870e-01,  1.39874351e-01,  3.11444497e-01,\n",
       "         -2.01007224e-01,  1.52603666e-01, -2.24044583e-01,\n",
       "          7.73388693e-02,  2.56619005e-01,  1.71490514e-01,\n",
       "         -2.50283640e-01,  1.08233050e-01,  9.91379384e-02,\n",
       "          5.14825557e-02, -3.59999188e-11,  9.29038348e-04,\n",
       "         -6.63553691e-03,  2.74809520e-03,  2.93460300e-01,\n",
       "          1.55367481e-01, -1.63273429e-01, -1.69828196e-02,\n",
       "         -4.03880082e-02,  2.04318317e-02, -1.58218562e-01,\n",
       "         -7.47045483e-02, -1.67785073e-01,  8.43204971e-02,\n",
       "         -6.17818332e-02, -5.82888281e-02, -1.57146578e-01,\n",
       "         -1.90488822e-01,  7.65760667e-02, -2.09479053e-02,\n",
       "         -9.66534242e-02,  6.65047364e-02,  1.21821930e-01,\n",
       "          1.84145796e-01, -9.87930180e-02,  3.34757308e-01,\n",
       "         -1.09726225e-02],\n",
       "        [-1.73277205e-03, -5.79744652e-03,  1.51988035e-01,\n",
       "         -3.84654269e-08, -1.09393975e-01, -1.48124515e-01,\n",
       "          2.03960484e-01,  1.18229541e-01,  1.49522840e-01,\n",
       "         -8.50161254e-03,  4.36586801e-02,  1.67307587e-01,\n",
       "          1.76675283e-02, -1.81575638e-02, -2.95456970e-03,\n",
       "         -2.62474449e-01,  2.42735463e-02, -6.00166961e-02,\n",
       "         -9.67805439e-03,  1.89910981e-02, -1.67435896e-02,\n",
       "         -1.96291299e-01,  2.06404742e-01,  1.67054948e-01,\n",
       "         -5.57163954e-02,  4.89613909e-02,  1.06460654e-01,\n",
       "          8.29158740e-02, -2.07910280e-01,  2.19836329e-01,\n",
       "          1.68191674e-02, -2.32015147e-08,  1.51578983e-01,\n",
       "         -1.47741298e-01, -6.68082436e-03,  2.38998076e-01,\n",
       "          9.17082445e-02,  4.82973718e-02,  2.43668529e-02,\n",
       "          1.55779693e-01, -1.27053330e-05,  1.75886774e-01,\n",
       "          1.83061586e-01,  1.79190957e-02,  1.83210915e-01,\n",
       "          2.73228812e-02,  1.19314950e-01,  8.10968046e-02,\n",
       "         -1.90509656e-01,  1.67833703e-01,  2.30553595e-02,\n",
       "         -1.96483845e-01,  1.33342478e-01,  1.93943455e-01,\n",
       "          4.42635310e-02, -1.11374321e-01,  1.87956231e-01,\n",
       "         -4.68829677e-02, -6.19976962e-02,  7.06940487e-03,\n",
       "          1.64192292e-01,  1.82056830e-01,  3.61406213e-03,\n",
       "          2.14508125e-01,  3.53057428e-02, -1.04403606e-01,\n",
       "          1.54892594e-01, -8.24365545e-04,  1.90938364e-01,\n",
       "         -1.39793904e-01, -5.78204039e-02, -1.91016991e-01,\n",
       "          2.20436605e-01, -4.49373093e-03, -2.25525431e-06,\n",
       "         -6.90416951e-02, -4.22552490e-02, -1.62347610e-01,\n",
       "         -5.99779381e-02,  1.21240218e-01, -8.08601603e-02,\n",
       "          2.92226135e-02,  2.28196564e-01,  2.21107386e-01,\n",
       "         -7.28588122e-02, -4.99133000e-02,  1.55644503e-01,\n",
       "         -1.90762320e-01, -2.41248874e-01,  1.70608915e-01,\n",
       "         -2.26892283e-01, -3.45927283e-02, -1.79712127e-01,\n",
       "          9.46892194e-02,  7.20403038e-02, -2.30404462e-01,\n",
       "         -1.83771754e-01,  7.45763193e-02,  2.74045385e-03,\n",
       "         -8.96989872e-07],\n",
       "        [-4.01397892e-04,  2.97847464e-04, -1.60825538e-01,\n",
       "         -1.75904618e-03, -8.53650636e-02, -4.23235466e-02,\n",
       "          1.31329209e-01,  4.24504153e-02, -7.04922358e-02,\n",
       "         -2.12254195e-01, -1.64267251e-01,  6.20541298e-02,\n",
       "          6.33451130e-02, -3.71305629e-03,  9.32412952e-09,\n",
       "         -7.18173288e-02, -7.10954078e-02,  2.05199877e-01,\n",
       "         -1.96123008e-01, -2.45070920e-01, -1.82610755e-02,\n",
       "          1.80989679e-01,  1.37878614e-01, -1.88137368e-01,\n",
       "          2.03155754e-01,  1.16017997e-01,  2.06604149e-01,\n",
       "         -2.63956781e-01,  1.66977908e-01, -5.97087360e-02,\n",
       "         -1.34839848e-01, -5.25104973e-03,  4.47630296e-02,\n",
       "          3.44807528e-02, -2.50647605e-03, -1.73573434e-01,\n",
       "          2.02972455e-01,  5.47039128e-02,  2.40757400e-01,\n",
       "         -1.94003143e-01,  9.59470447e-12,  1.69881459e-01,\n",
       "          8.12882664e-02,  9.77441684e-02,  1.98147487e-01,\n",
       "          6.39863036e-02,  2.20984530e-01, -3.34914312e-01,\n",
       "         -9.85027924e-03,  1.27953185e-01, -5.93203953e-02,\n",
       "         -5.68937268e-02, -5.53845473e-02,  2.22508883e-01,\n",
       "         -5.64730637e-02, -7.41727706e-03, -2.10815236e-01,\n",
       "         -2.00628403e-01,  2.41520030e-01, -2.02646055e-01,\n",
       "          1.49289363e-01, -4.91981888e-02, -5.52045995e-02,\n",
       "         -2.34961994e-01, -4.07536663e-02,  1.75989875e-01,\n",
       "          1.22969800e-01,  1.28595038e-02,  1.41319869e-01,\n",
       "         -2.48977865e-02,  2.96835273e-02,  1.17003470e-02,\n",
       "          5.30933271e-02,  3.13881322e-11, -6.97546424e-03,\n",
       "          1.95669695e-01, -2.21553109e-02, -6.41472688e-02,\n",
       "         -4.98334113e-02, -5.84518808e-02,  1.60560916e-02,\n",
       "         -3.39301705e-02,  2.92163165e-03, -3.77367698e-02,\n",
       "          1.09587172e-01, -3.11731577e-02, -7.24574064e-02,\n",
       "         -6.47622972e-02, -1.84205113e-01, -1.61093100e-01,\n",
       "          8.10836169e-02, -2.20763222e-01,  2.06783812e-01,\n",
       "         -6.34241302e-02,  1.80291025e-01,  6.14458022e-02,\n",
       "          1.22882259e-01,  8.66522055e-03, -1.82147889e-01,\n",
       "         -1.75148591e-02],\n",
       "        [-5.30272651e-03, -3.07659248e-03, -2.34649021e-01,\n",
       "          8.37389388e-04, -1.58226754e-01, -1.41118757e-01,\n",
       "         -2.10859021e-01, -3.95284446e-04, -1.26303346e-01,\n",
       "         -3.92191824e-02, -2.30837832e-01, -2.11561874e-01,\n",
       "         -2.16161015e-01,  2.19177377e-05, -2.42141602e-08,\n",
       "          2.25360653e-02, -1.73595839e-01,  1.73008233e-01,\n",
       "          6.72803660e-02, -1.64694922e-01,  1.52763128e-03,\n",
       "         -1.11548321e-01,  2.05202046e-01,  1.60411803e-01,\n",
       "         -1.37505480e-01, -1.55268960e-01,  1.64753431e-01,\n",
       "          2.11228749e-02,  1.93352651e-01,  4.35367676e-02,\n",
       "          2.68635402e-01, -1.43384856e-03,  2.27788817e-01,\n",
       "         -1.09562239e-01,  1.35468157e-12, -6.43305777e-02,\n",
       "          1.44783830e-01,  2.41427744e-01,  1.50920153e-01,\n",
       "         -2.69723630e-01, -8.65355891e-04,  1.87241828e-01,\n",
       "          7.61537957e-02, -2.09175758e-01,  1.10996527e-01,\n",
       "         -2.01381822e-01, -1.73859348e-02,  3.28959702e-02,\n",
       "          7.36489039e-02,  2.03387893e-01,  2.02228805e-01,\n",
       "          2.45876212e-01, -9.43394593e-03, -7.73921346e-02,\n",
       "         -2.61389143e-02,  9.48972893e-02, -2.38928260e-01,\n",
       "          2.55396331e-03,  4.38838937e-02, -1.15407329e-02,\n",
       "          1.54672851e-01,  4.01866661e-02, -7.88162630e-02,\n",
       "          1.81026747e-01, -5.33655868e-02,  8.78299064e-03,\n",
       "          1.34676907e-01,  1.19824411e-01, -1.34656569e-01,\n",
       "         -7.63373953e-02, -4.26424588e-02,  1.37856931e-01,\n",
       "         -3.43255321e-02,  1.70031874e-06,  4.22599234e-11,\n",
       "         -4.29752451e-02, -7.43284619e-03,  1.21938729e-01,\n",
       "         -1.24264316e-03, -1.49165996e-01,  8.46358139e-02,\n",
       "         -1.58840294e-02, -1.77437455e-01, -2.86300894e-01,\n",
       "         -2.84486157e-02,  1.42162491e-01,  1.86535508e-01,\n",
       "          1.16738406e-01, -2.15271884e-02,  2.17092835e-01,\n",
       "          1.34486869e-01,  6.14719076e-02, -2.19377125e-01,\n",
       "          3.17129982e-02, -6.28500455e-02, -1.10516393e-01,\n",
       "          3.31151930e-02, -9.70099245e-02, -4.02333225e-02,\n",
       "         -3.53904512e-03],\n",
       "        [-1.64785112e-14, -7.51225330e-05,  9.84986493e-02,\n",
       "         -3.90636890e-05, -1.56872765e-02,  2.45377923e-01,\n",
       "          6.12373314e-02,  2.83591518e-02,  1.70957730e-01,\n",
       "          9.04661470e-03, -5.03759752e-02,  1.67159802e-02,\n",
       "         -1.32699407e-01, -5.26954411e-09, -4.29731078e-06,\n",
       "         -2.21351132e-01,  2.09387022e-01,  2.11498845e-01,\n",
       "          1.14414116e-01,  1.40010693e-01, -1.69597245e-02,\n",
       "          4.56545817e-02,  1.05300619e-01,  9.90824253e-02,\n",
       "          1.48224751e-02, -6.12443045e-02, -1.32687080e-01,\n",
       "         -3.48514967e-02,  3.29450793e-02, -1.54765552e-01,\n",
       "         -2.81327883e-02, -2.67846624e-06, -1.52348336e-02,\n",
       "          2.18510403e-01, -1.49910558e-05, -2.24411325e-01,\n",
       "          1.06126731e-01, -1.69053182e-01,  1.65201788e-01,\n",
       "         -2.87019831e-01, -2.84144733e-05, -1.89967747e-01,\n",
       "         -5.98427181e-02, -4.53464299e-02, -4.78521180e-02,\n",
       "         -2.70232053e-01,  1.89230861e-01, -3.00749708e-02,\n",
       "          1.40612501e-01, -1.79934784e-01, -4.32814423e-02,\n",
       "          1.45156818e-01, -2.07166127e-02, -1.71249679e-02,\n",
       "         -1.79744128e-02,  3.52102326e-02,  1.94019214e-01,\n",
       "          1.03196223e-01,  1.02701262e-01,  1.17582590e-01,\n",
       "         -6.75628999e-02, -1.65587385e-02, -1.71555280e-03,\n",
       "         -1.70211999e-01, -1.18375487e-01,  9.78635930e-02,\n",
       "         -1.88015162e-01,  5.80517814e-02, -2.12557112e-01,\n",
       "         -3.21025031e-03, -3.01694717e-02,  2.03923280e-01,\n",
       "          1.41107296e-01,  5.86053631e-10, -4.16936724e-05,\n",
       "          9.44869877e-02, -6.68980668e-04, -1.16275281e-01,\n",
       "         -2.37276344e-06, -6.20917755e-02,  8.90709802e-02,\n",
       "         -4.70313508e-02, -1.53364136e-01, -5.58158153e-02,\n",
       "         -1.39437533e-01,  4.72604790e-02, -3.27168631e-01,\n",
       "          1.41310472e-01,  7.09241060e-02,  2.34309023e-01,\n",
       "         -5.84610518e-03,  1.10519395e-01, -2.37008914e-01,\n",
       "         -2.55276524e-02, -9.04637595e-02,  2.00993655e-01,\n",
       "          1.84535411e-01, -1.11976180e-01, -3.58455100e-03,\n",
       "         -7.22447018e-07],\n",
       "        [-2.72584433e-04, -4.36954983e-03,  2.15659673e-01,\n",
       "         -3.85731652e-04,  2.16899100e-01,  3.94403305e-02,\n",
       "          2.03883656e-03, -1.32605612e-01,  1.42095241e-01,\n",
       "         -9.44772770e-02, -1.26858737e-01,  1.85933085e-01,\n",
       "          2.27890808e-01, -1.00059457e-02,  1.23200690e-14,\n",
       "          1.60609653e-01, -5.65887715e-02,  1.44069456e-01,\n",
       "          1.66434126e-01, -8.61850339e-03, -3.74271500e-02,\n",
       "         -9.95129801e-02,  1.47174979e-01,  1.28552063e-01,\n",
       "          1.35939465e-01, -2.02885013e-01,  6.96903472e-02,\n",
       "          1.08811194e-01, -2.16650314e-01, -7.55191764e-02,\n",
       "         -6.10467092e-02, -2.56957546e-12, -7.26028506e-03,\n",
       "          1.10310931e-01, -4.61004769e-04, -2.55929335e-02,\n",
       "         -1.56870933e-02, -1.02391468e-01, -5.36686072e-02,\n",
       "          3.86380474e-02,  7.67741415e-05, -1.10673286e-01,\n",
       "         -2.25704871e-01, -2.17947807e-01,  2.16083972e-01,\n",
       "          1.55453499e-01,  2.05661604e-01,  1.91365620e-01,\n",
       "          7.70864654e-02, -8.97596954e-02,  1.06114669e-01,\n",
       "         -1.26701742e-01, -2.42611351e-01,  1.01874062e-02,\n",
       "         -1.99858178e-01, -2.22995985e-01, -1.97795588e-01,\n",
       "         -3.60156433e-02, -1.13767881e-01, -1.07809988e-01,\n",
       "          8.28653784e-02,  2.86463480e-02, -9.62445261e-02,\n",
       "          8.68172649e-02, -6.20798434e-02, -2.06633179e-01,\n",
       "          3.40551221e-02, -1.04510938e-01, -6.69928271e-02,\n",
       "         -1.26188357e-02,  8.72274914e-02, -7.40844020e-03,\n",
       "         -2.41491617e-01,  2.38233922e-14, -1.54498808e-03,\n",
       "          9.56074690e-02, -3.14086752e-02,  6.29899162e-02,\n",
       "         -3.85376336e-02,  1.11954411e-01,  1.61010835e-01,\n",
       "          1.41792169e-01, -2.03593805e-02, -1.93758437e-01,\n",
       "          2.47966627e-01,  2.51349356e-02, -1.12378414e-02,\n",
       "         -1.50481172e-01,  1.63659583e-01,  1.51104821e-01,\n",
       "          1.77128693e-01, -1.92338307e-01,  1.97793988e-01,\n",
       "          1.79085225e-01,  1.56849331e-01,  2.44541220e-02,\n",
       "          1.85027296e-01,  1.71615987e-01, -1.10759815e-01,\n",
       "         -1.48972854e-02],\n",
       "        [ 2.76788544e-03,  1.97682810e-07, -1.98641594e-01,\n",
       "          1.19266961e-03,  9.28755718e-02, -2.62803369e-02,\n",
       "         -1.60355539e-01, -7.42963917e-02,  3.12974709e-02,\n",
       "          1.80047605e-01,  1.44459997e-01,  1.01966337e-01,\n",
       "          1.69795637e-01,  4.46650827e-07, -1.66815062e-05,\n",
       "         -2.98047451e-02,  9.09241731e-03, -1.68390091e-01,\n",
       "         -1.43398503e-01, -2.55193397e-01, -1.39777309e-02,\n",
       "          8.54573899e-03, -5.78057766e-02, -2.07789325e-01,\n",
       "          6.01136750e-02, -1.06803863e-02,  1.44134918e-01,\n",
       "         -7.82509199e-02,  1.47573526e-02,  1.64059727e-01,\n",
       "         -1.33306282e-01,  5.21575360e-08, -6.34429103e-02,\n",
       "          1.45859808e-01,  2.72747902e-03, -5.27299857e-02,\n",
       "          8.69182477e-02, -1.63216730e-01, -9.00807716e-02,\n",
       "          1.17903080e-01,  9.08468151e-06, -1.62852261e-01,\n",
       "          1.05878796e-01, -8.72866522e-03, -3.68444290e-02,\n",
       "         -1.26348965e-01,  2.05170304e-01,  3.31370193e-02,\n",
       "         -1.69642532e-01,  7.99645587e-02, -4.50961146e-01,\n",
       "         -1.42895785e-01,  1.85503862e-01, -1.34765021e-01,\n",
       "         -2.69212321e-01,  2.53136382e-01, -1.89877565e-01,\n",
       "         -4.30181844e-02, -1.82384046e-01, -3.05083021e-01,\n",
       "         -7.59174202e-02, -6.02722392e-02, -4.51039618e-02,\n",
       "          2.70246835e-02,  8.46585866e-02, -1.41611196e-01,\n",
       "         -2.01167641e-01, -8.99188752e-02,  1.40449942e-01,\n",
       "         -2.36588860e-01,  4.78898476e-02, -1.37770964e-01,\n",
       "         -1.58727213e-01,  6.20335678e-06, -1.35733417e-06,\n",
       "         -3.45574823e-02, -6.20981311e-03,  2.84924063e-01,\n",
       "         -3.81354099e-02,  5.41799437e-02, -2.16835246e-02,\n",
       "          3.09697179e-01, -2.86460078e-03,  7.67027147e-02,\n",
       "          1.37981360e-01, -7.64926640e-02,  1.59051362e-01,\n",
       "          1.75455239e-01, -2.10127989e-01, -7.41660643e-02,\n",
       "          4.66821871e-02, -1.11017867e-01, -2.29975819e-01,\n",
       "          2.00839728e-01,  1.21126000e-01,  2.15744872e-02,\n",
       "          3.89990177e-02,  7.58359134e-02, -8.39374529e-04,\n",
       "         -2.90954355e-02],\n",
       "        [-8.88230028e-04, -9.03031651e-04,  2.21800886e-01,\n",
       "         -7.24234327e-08,  2.60702492e-01,  1.49425886e-01,\n",
       "         -1.25574219e-01,  8.65898742e-02, -2.05285487e-01,\n",
       "          2.23223597e-02,  2.08477383e-01,  2.04046717e-01,\n",
       "          1.43399151e-01, -1.04184919e-02, -1.01087176e-04,\n",
       "          2.28077220e-01,  1.32373774e-01, -1.49312045e-01,\n",
       "          8.91202956e-02,  1.49790228e-01, -3.78534254e-02,\n",
       "         -4.83868074e-03,  1.63310541e-01,  1.49419331e-01,\n",
       "         -1.79214172e-01, -4.29783936e-02,  1.55589853e-01,\n",
       "         -1.18547224e-01,  1.04380868e-01,  1.34001641e-01,\n",
       "          2.09148872e-01, -7.16746422e-04,  1.39384454e-01,\n",
       "          2.43132964e-02, -1.20040787e-09, -1.25981974e-01,\n",
       "          1.00143503e-01,  1.29654663e-01, -1.28656105e-01,\n",
       "          7.53836606e-02,  2.16433145e-12,  2.99828969e-02,\n",
       "          2.00839992e-01, -1.33572112e-01,  5.19121482e-02,\n",
       "         -1.00715892e-01,  2.00075403e-01, -8.01685290e-02,\n",
       "         -1.08129749e-03,  1.54477843e-01, -1.28039397e-01,\n",
       "          1.76893139e-01,  3.80430265e-02, -3.87051819e-02,\n",
       "         -1.17728469e-01,  1.24154323e-01,  1.28649277e-02,\n",
       "         -4.38370774e-02,  4.77078144e-02, -1.17846124e-01,\n",
       "          1.62212650e-02, -1.43880948e-01,  1.04029896e-01,\n",
       "          7.28915058e-02,  1.05902127e-01,  1.71156219e-01,\n",
       "         -1.09584321e-01,  7.99053612e-02,  7.35517991e-02,\n",
       "          1.74388184e-01, -1.60486525e-01,  2.13062734e-01,\n",
       "         -9.16786199e-02, -2.27677988e-03, -3.87020126e-08,\n",
       "         -5.30645664e-02,  2.97101079e-02,  1.01795978e-01,\n",
       "          1.00431940e-01, -1.40476868e-01, -1.50099655e-01,\n",
       "         -2.02810323e-01,  6.16255121e-02, -1.39081470e-01,\n",
       "         -2.26939941e-02,  4.48668015e-02, -1.87080874e-01,\n",
       "         -1.03968204e-01,  4.20220208e-02, -5.09209981e-02,\n",
       "          1.06991334e-01,  1.92412649e-01,  1.33007192e-01,\n",
       "         -1.05863992e-01,  8.75011508e-02, -1.86985848e-01,\n",
       "          1.72479743e-01, -2.99952064e-02,  2.98156091e-01,\n",
       "         -3.83876157e-02]]), array([[ 4.26889308e-03],\n",
       "        [-2.25423902e-04],\n",
       "        [-5.37508793e-02],\n",
       "        [-2.76889127e-03],\n",
       "        [-2.18963873e-01],\n",
       "        [-9.70042379e-02],\n",
       "        [ 1.34527243e-01],\n",
       "        [-1.73570146e-01],\n",
       "        [-2.50517519e-01],\n",
       "        [ 1.67695060e-01],\n",
       "        [-2.79559719e-02],\n",
       "        [ 2.14138074e-01],\n",
       "        [-6.80472459e-02],\n",
       "        [ 1.51957202e-02],\n",
       "        [-1.90013210e-03],\n",
       "        [ 3.07934966e-01],\n",
       "        [ 2.15413544e-01],\n",
       "        [ 1.20771743e-01],\n",
       "        [ 8.00619835e-02],\n",
       "        [ 6.70334671e-03],\n",
       "        [ 1.47123258e-03],\n",
       "        [ 3.78463446e-02],\n",
       "        [ 1.36079746e-01],\n",
       "        [ 1.60401195e-01],\n",
       "        [-2.53184004e-01],\n",
       "        [-1.87044364e-01],\n",
       "        [-1.34880632e-01],\n",
       "        [-8.42231263e-02],\n",
       "        [ 2.29240774e-01],\n",
       "        [-1.22885193e-01],\n",
       "        [-2.78859528e-01],\n",
       "        [-3.21886684e-04],\n",
       "        [ 3.24027435e-02],\n",
       "        [ 1.61101605e-01],\n",
       "        [-1.86149575e-03],\n",
       "        [-1.77925812e-01],\n",
       "        [ 1.12637240e-02],\n",
       "        [-3.65161317e-02],\n",
       "        [-1.93038837e-02],\n",
       "        [ 7.03178644e-02],\n",
       "        [ 2.62719383e-05],\n",
       "        [-2.59123550e-02],\n",
       "        [-5.76275956e-03],\n",
       "        [ 4.99803391e-03],\n",
       "        [-3.95186648e-02],\n",
       "        [ 1.19795923e-01],\n",
       "        [-1.97951566e-01],\n",
       "        [-5.76453665e-02],\n",
       "        [ 1.16053984e-01],\n",
       "        [ 1.36767114e-01],\n",
       "        [-6.32489705e-02],\n",
       "        [ 5.39566423e-02],\n",
       "        [ 1.50244525e-01],\n",
       "        [-1.43889406e-01],\n",
       "        [ 1.15795035e-01],\n",
       "        [-2.13643673e-01],\n",
       "        [-1.58689801e-02],\n",
       "        [ 2.09894966e-01],\n",
       "        [-6.01838727e-02],\n",
       "        [-1.41501210e-01],\n",
       "        [ 1.36999631e-01],\n",
       "        [ 3.06453820e-02],\n",
       "        [-3.10033330e-01],\n",
       "        [ 4.31304614e-02],\n",
       "        [ 1.89578829e-01],\n",
       "        [ 5.92947324e-03],\n",
       "        [-1.45335100e-01],\n",
       "        [ 1.65451358e-01],\n",
       "        [ 1.28305654e-02],\n",
       "        [-1.45478671e-02],\n",
       "        [ 7.94777686e-02],\n",
       "        [-1.35812858e-01],\n",
       "        [ 4.65399244e-02],\n",
       "        [ 1.64677652e-04],\n",
       "        [-1.67317794e-05],\n",
       "        [-8.81000159e-02],\n",
       "        [-6.87030862e-03],\n",
       "        [ 2.88614987e-01],\n",
       "        [ 1.04511915e-01],\n",
       "        [ 2.29655674e-01],\n",
       "        [-9.17809152e-02],\n",
       "        [ 5.17780816e-01],\n",
       "        [-1.70849186e-01],\n",
       "        [ 5.11042321e-02],\n",
       "        [-7.51788072e-02],\n",
       "        [ 2.22874144e-01],\n",
       "        [ 1.21766903e-01],\n",
       "        [-5.56688422e-02],\n",
       "        [ 2.54390250e-01],\n",
       "        [-1.34656363e-01],\n",
       "        [-2.23938537e-01],\n",
       "        [-1.81664291e-01],\n",
       "        [ 1.50965363e-01],\n",
       "        [ 8.24882627e-02],\n",
       "        [ 1.74489508e-01],\n",
       "        [ 1.84962010e-01],\n",
       "        [-5.00381634e-02],\n",
       "        [ 1.73721649e-01],\n",
       "        [-3.01618081e-01],\n",
       "        [-6.78840902e-03]])]"
      ]
     },
     "metadata": {},
     "execution_count": 12
    }
   ],
   "source": [
    "mlpc_model.coefs_"
   ]
  },
  {
   "cell_type": "code",
   "execution_count": 13,
   "metadata": {},
   "outputs": [
    {
     "output_type": "stream",
     "text": [
      "\u001b[1;31mType:\u001b[0m        MLPClassifier\n",
      "\u001b[1;31mString form:\u001b[0m MLPClassifier()\n",
      "\u001b[1;31mFile:\u001b[0m        c:\\users\\cllaks\\anaconda3\\lib\\site-packages\\sklearn\\neural_network\\_multilayer_perceptron.py\n",
      "\u001b[1;31mDocstring:\u001b[0m  \n",
      "Multi-layer Perceptron classifier.\n",
      "\n",
      "This model optimizes the log-loss function using LBFGS or stochastic\n",
      "gradient descent.\n",
      "\n",
      ".. versionadded:: 0.18\n",
      "\n",
      "Parameters\n",
      "----------\n",
      "hidden_layer_sizes : tuple, length = n_layers - 2, default=(100,)\n",
      "    The ith element represents the number of neurons in the ith\n",
      "    hidden layer.\n",
      "\n",
      "activation : {'identity', 'logistic', 'tanh', 'relu'}, default='relu'\n",
      "    Activation function for the hidden layer.\n",
      "\n",
      "    - 'identity', no-op activation, useful to implement linear bottleneck,\n",
      "      returns f(x) = x\n",
      "\n",
      "    - 'logistic', the logistic sigmoid function,\n",
      "      returns f(x) = 1 / (1 + exp(-x)).\n",
      "\n",
      "    - 'tanh', the hyperbolic tan function,\n",
      "      returns f(x) = tanh(x).\n",
      "\n",
      "    - 'relu', the rectified linear unit function,\n",
      "      returns f(x) = max(0, x)\n",
      "\n",
      "solver : {'lbfgs', 'sgd', 'adam'}, default='adam'\n",
      "    The solver for weight optimization.\n",
      "\n",
      "    - 'lbfgs' is an optimizer in the family of quasi-Newton methods.\n",
      "\n",
      "    - 'sgd' refers to stochastic gradient descent.\n",
      "\n",
      "    - 'adam' refers to a stochastic gradient-based optimizer proposed\n",
      "      by Kingma, Diederik, and Jimmy Ba\n",
      "\n",
      "    Note: The default solver 'adam' works pretty well on relatively\n",
      "    large datasets (with thousands of training samples or more) in terms of\n",
      "    both training time and validation score.\n",
      "    For small datasets, however, 'lbfgs' can converge faster and perform\n",
      "    better.\n",
      "\n",
      "alpha : float, default=0.0001\n",
      "    L2 penalty (regularization term) parameter.\n",
      "\n",
      "batch_size : int, default='auto'\n",
      "    Size of minibatches for stochastic optimizers.\n",
      "    If the solver is 'lbfgs', the classifier will not use minibatch.\n",
      "    When set to \"auto\", `batch_size=min(200, n_samples)`\n",
      "\n",
      "learning_rate : {'constant', 'invscaling', 'adaptive'}, default='constant'\n",
      "    Learning rate schedule for weight updates.\n",
      "\n",
      "    - 'constant' is a constant learning rate given by\n",
      "      'learning_rate_init'.\n",
      "\n",
      "    - 'invscaling' gradually decreases the learning rate at each\n",
      "      time step 't' using an inverse scaling exponent of 'power_t'.\n",
      "      effective_learning_rate = learning_rate_init / pow(t, power_t)\n",
      "\n",
      "    - 'adaptive' keeps the learning rate constant to\n",
      "      'learning_rate_init' as long as training loss keeps decreasing.\n",
      "      Each time two consecutive epochs fail to decrease training loss by at\n",
      "      least tol, or fail to increase validation score by at least tol if\n",
      "      'early_stopping' is on, the current learning rate is divided by 5.\n",
      "\n",
      "    Only used when ``solver='sgd'``.\n",
      "\n",
      "learning_rate_init : double, default=0.001\n",
      "    The initial learning rate used. It controls the step-size\n",
      "    in updating the weights. Only used when solver='sgd' or 'adam'.\n",
      "\n",
      "power_t : double, default=0.5\n",
      "    The exponent for inverse scaling learning rate.\n",
      "    It is used in updating effective learning rate when the learning_rate\n",
      "    is set to 'invscaling'. Only used when solver='sgd'.\n",
      "\n",
      "max_iter : int, default=200\n",
      "    Maximum number of iterations. The solver iterates until convergence\n",
      "    (determined by 'tol') or this number of iterations. For stochastic\n",
      "    solvers ('sgd', 'adam'), note that this determines the number of epochs\n",
      "    (how many times each data point will be used), not the number of\n",
      "    gradient steps.\n",
      "\n",
      "shuffle : bool, default=True\n",
      "    Whether to shuffle samples in each iteration. Only used when\n",
      "    solver='sgd' or 'adam'.\n",
      "\n",
      "random_state : int, RandomState instance, default=None\n",
      "    Determines random number generation for weights and bias\n",
      "    initialization, train-test split if early stopping is used, and batch\n",
      "    sampling when solver='sgd' or 'adam'.\n",
      "    Pass an int for reproducible results across multiple function calls.\n",
      "    See :term:`Glossary <random_state>`.\n",
      "\n",
      "tol : float, default=1e-4\n",
      "    Tolerance for the optimization. When the loss or score is not improving\n",
      "    by at least ``tol`` for ``n_iter_no_change`` consecutive iterations,\n",
      "    unless ``learning_rate`` is set to 'adaptive', convergence is\n",
      "    considered to be reached and training stops.\n",
      "\n",
      "verbose : bool, default=False\n",
      "    Whether to print progress messages to stdout.\n",
      "\n",
      "warm_start : bool, default=False\n",
      "    When set to True, reuse the solution of the previous\n",
      "    call to fit as initialization, otherwise, just erase the\n",
      "    previous solution. See :term:`the Glossary <warm_start>`.\n",
      "\n",
      "momentum : float, default=0.9\n",
      "    Momentum for gradient descent update. Should be between 0 and 1. Only\n",
      "    used when solver='sgd'.\n",
      "\n",
      "nesterovs_momentum : boolean, default=True\n",
      "    Whether to use Nesterov's momentum. Only used when solver='sgd' and\n",
      "    momentum > 0.\n",
      "\n",
      "early_stopping : bool, default=False\n",
      "    Whether to use early stopping to terminate training when validation\n",
      "    score is not improving. If set to true, it will automatically set\n",
      "    aside 10% of training data as validation and terminate training when\n",
      "    validation score is not improving by at least tol for\n",
      "    ``n_iter_no_change`` consecutive epochs. The split is stratified,\n",
      "    except in a multilabel setting.\n",
      "    Only effective when solver='sgd' or 'adam'\n",
      "\n",
      "validation_fraction : float, default=0.1\n",
      "    The proportion of training data to set aside as validation set for\n",
      "    early stopping. Must be between 0 and 1.\n",
      "    Only used if early_stopping is True\n",
      "\n",
      "beta_1 : float, default=0.9\n",
      "    Exponential decay rate for estimates of first moment vector in adam,\n",
      "    should be in [0, 1). Only used when solver='adam'\n",
      "\n",
      "beta_2 : float, default=0.999\n",
      "    Exponential decay rate for estimates of second moment vector in adam,\n",
      "    should be in [0, 1). Only used when solver='adam'\n",
      "\n",
      "epsilon : float, default=1e-8\n",
      "    Value for numerical stability in adam. Only used when solver='adam'\n",
      "\n",
      "n_iter_no_change : int, default=10\n",
      "    Maximum number of epochs to not meet ``tol`` improvement.\n",
      "    Only effective when solver='sgd' or 'adam'\n",
      "\n",
      "    .. versionadded:: 0.20\n",
      "\n",
      "max_fun : int, default=15000\n",
      "    Only used when solver='lbfgs'. Maximum number of loss function calls.\n",
      "    The solver iterates until convergence (determined by 'tol'), number\n",
      "    of iterations reaches max_iter, or this number of loss function calls.\n",
      "    Note that number of loss function calls will be greater than or equal\n",
      "    to the number of iterations for the `MLPClassifier`.\n",
      "\n",
      "    .. versionadded:: 0.22\n",
      "\n",
      "Attributes\n",
      "----------\n",
      "classes_ : ndarray or list of ndarray of shape (n_classes,)\n",
      "    Class labels for each output.\n",
      "\n",
      "loss_ : float\n",
      "    The current loss computed with the loss function.\n",
      "\n",
      "coefs_ : list, length n_layers - 1\n",
      "    The ith element in the list represents the weight matrix corresponding\n",
      "    to layer i.\n",
      "\n",
      "intercepts_ : list, length n_layers - 1\n",
      "    The ith element in the list represents the bias vector corresponding to\n",
      "    layer i + 1.\n",
      "\n",
      "n_iter_ : int,\n",
      "    The number of iterations the solver has ran.\n",
      "\n",
      "n_layers_ : int\n",
      "    Number of layers.\n",
      "\n",
      "n_outputs_ : int\n",
      "    Number of outputs.\n",
      "\n",
      "out_activation_ : string\n",
      "    Name of the output activation function.\n",
      "\n",
      "\n",
      "Examples\n",
      "--------\n",
      ">>> from sklearn.neural_network import MLPClassifier\n",
      ">>> from sklearn.datasets import make_classification\n",
      ">>> from sklearn.model_selection import train_test_split\n",
      ">>> X, y = make_classification(n_samples=100, random_state=1)\n",
      ">>> X_train, X_test, y_train, y_test = train_test_split(X, y, stratify=y,\n",
      "...                                                     random_state=1)\n",
      ">>> clf = MLPClassifier(random_state=1, max_iter=300).fit(X_train, y_train)\n",
      ">>> clf.predict_proba(X_test[:1])\n",
      "array([[0.038..., 0.961...]])\n",
      ">>> clf.predict(X_test[:5, :])\n",
      "array([1, 0, 1, 0, 1])\n",
      ">>> clf.score(X_test, y_test)\n",
      "0.8...\n",
      "\n",
      "Notes\n",
      "-----\n",
      "MLPClassifier trains iteratively since at each time step\n",
      "the partial derivatives of the loss function with respect to the model\n",
      "parameters are computed to update the parameters.\n",
      "\n",
      "It can also have a regularization term added to the loss function\n",
      "that shrinks model parameters to prevent overfitting.\n",
      "\n",
      "This implementation works with data represented as dense numpy arrays or\n",
      "sparse scipy arrays of floating point values.\n",
      "\n",
      "References\n",
      "----------\n",
      "Hinton, Geoffrey E.\n",
      "    \"Connectionist learning procedures.\" Artificial intelligence 40.1\n",
      "    (1989): 185-234.\n",
      "\n",
      "Glorot, Xavier, and Yoshua Bengio. \"Understanding the difficulty of\n",
      "    training deep feedforward neural networks.\" International Conference\n",
      "    on Artificial Intelligence and Statistics. 2010.\n",
      "\n",
      "He, Kaiming, et al. \"Delving deep into rectifiers: Surpassing human-level\n",
      "    performance on imagenet classification.\" arXiv preprint\n",
      "    arXiv:1502.01852 (2015).\n",
      "\n",
      "Kingma, Diederik, and Jimmy Ba. \"Adam: A method for stochastic\n",
      "    optimization.\" arXiv preprint arXiv:1412.6980 (2014).\n"
     ],
     "name": "stdout"
    }
   ],
   "source": [
    "?mlpc_model"
   ]
  },
  {
   "cell_type": "code",
   "execution_count": 14,
   "metadata": {},
   "outputs": [],
   "source": [
    "# log_loss fonksiyonunu kullanmaktadır.\n",
    "# hidden_layer_sizes\n",
    "# activation : default relu - regresyonda kullanmıştık. Doğrusal problemler kullanılmaktadır\n",
    "# activation 'logistic' kullanmamız gerekir. Bu aslında sigmoid fonksiyonuna karşılık gelmektedir.\n",
    "# Değerlendirebilecek başka aktivasyon fonksiyonları da vardır.\n",
    "# Doğrusal bir problem için 'relu', Sınıflandırma problemi için 'logistic' yani sigmoid fonksiyonu kullanılmalıdır.\n",
    "# solver : Modelimizde kullanmış olduğumuz ağırlıkları optimize etmek için kullanılacak olan yöntemi ifade eder. \n",
    "# solver ın öntanımlı değeri 'adam' dır. Daha çok büyük boyutlu verisetlerinde iyi çalışmaktadır. Daha küçük verisetlerinde bizimki gibi 'lbfgs' daha iyi çalışır.\n",
    "# alpha : ridge ve lasso da kullanmış olduğumuz ceza terimidir. Lambda ifadesidir."
   ]
  },
  {
   "cell_type": "code",
   "execution_count": 15,
   "metadata": {},
   "outputs": [],
   "source": [
    "y_pred = mlpc_model.predict(X_test)"
   ]
  },
  {
   "cell_type": "code",
   "execution_count": 16,
   "metadata": {},
   "outputs": [
    {
     "output_type": "execute_result",
     "data": {
      "text/plain": [
       "0.70995670995671"
      ]
     },
     "metadata": {},
     "execution_count": 16
    }
   ],
   "source": [
    "accuracy_score(y_test, y_pred)"
   ]
  },
  {
   "cell_type": "code",
   "execution_count": 17,
   "metadata": {},
   "outputs": [],
   "source": [
    "# MODEL TUNNING"
   ]
  },
  {
   "cell_type": "code",
   "execution_count": 18,
   "metadata": {},
   "outputs": [],
   "source": [
    "mlpc_params = {\"alpha\" : [1, 5, 0.1, 0.01, 0.03, 0.005, 0.0001],\n",
    "\"hidden_layer_sizes\" : [(10,10), (100,100,100), (100,100),(3,5)]}"
   ]
  },
  {
   "cell_type": "code",
   "execution_count": 82,
   "metadata": {},
   "outputs": [],
   "source": [
    "# mlpc = MLPClassifier(solver = \"lbfgs\")\n",
    "mlpc = MLPClassifier(solver = \"lbfgs\", activation = \"logistic\")"
   ]
  },
  {
   "cell_type": "code",
   "execution_count": 83,
   "metadata": {},
   "outputs": [
    {
     "output_type": "stream",
     "name": "stdout",
     "text": [
      "Fitting 10 folds for each of 28 candidates, totalling 280 fits\n",
      "[Parallel(n_jobs=-1)]: Using backend LokyBackend with 8 concurrent workers.\n",
      "[Parallel(n_jobs=-1)]: Done  25 tasks      | elapsed:    8.5s\n",
      "[Parallel(n_jobs=-1)]: Done 146 tasks      | elapsed:   36.7s\n",
      "[Parallel(n_jobs=-1)]: Done 280 out of 280 | elapsed:  1.1min finished\n"
     ]
    }
   ],
   "source": [
    "mlpc_cv_model = GridSearchCV(mlpc, mlpc_params, cv=10, n_jobs =-1, verbose = 2).fit(X_train, y_train)"
   ]
  },
  {
   "cell_type": "code",
   "execution_count": 84,
   "metadata": {},
   "outputs": [
    {
     "output_type": "execute_result",
     "data": {
      "text/plain": [
       "GridSearchCV(cv=10,\n",
       "             estimator=MLPClassifier(activation='logistic', solver='lbfgs'),\n",
       "             n_jobs=-1,\n",
       "             param_grid={'alpha': [1, 5, 0.1, 0.01, 0.03, 0.005, 0.0001],\n",
       "                         'hidden_layer_sizes': [(10, 10), (100, 100, 100),\n",
       "                                                (100, 100), (3, 5)]},\n",
       "             verbose=2)"
      ]
     },
     "metadata": {},
     "execution_count": 84
    }
   ],
   "source": [
    "mlpc_cv_model"
   ]
  },
  {
   "cell_type": "code",
   "execution_count": 86,
   "metadata": {},
   "outputs": [
    {
     "output_type": "execute_result",
     "data": {
      "text/plain": [
       "{'alpha': 5, 'hidden_layer_sizes': (100, 100)}"
      ]
     },
     "metadata": {},
     "execution_count": 86
    }
   ],
   "source": [
    "mlpc_cv_model.best_params_"
   ]
  },
  {
   "cell_type": "code",
   "execution_count": 27,
   "metadata": {},
   "outputs": [],
   "source": [
    "# FİNAL MODELİ"
   ]
  },
  {
   "cell_type": "code",
   "execution_count": 115,
   "metadata": {},
   "outputs": [],
   "source": [
    "mlpc_tuned = MLPClassifier(solver = \"lbfgs\", alpha = 5, activation = 'logistic', hidden_layer_sizes = (100, 100)).fit(X_train, y_train)"
   ]
  },
  {
   "cell_type": "code",
   "execution_count": 117,
   "metadata": {},
   "outputs": [],
   "source": [
    "y_pred = mlpc_tuned.predict(X_test)"
   ]
  },
  {
   "cell_type": "code",
   "execution_count": 122,
   "metadata": {},
   "outputs": [
    {
     "output_type": "execute_result",
     "data": {
      "text/plain": [
       "0.7272727272727273"
      ]
     },
     "metadata": {},
     "execution_count": 122
    }
   ],
   "source": [
    "accuracy_score(y_test, y_pred)"
   ]
  },
  {
   "source": [
    "## STANDARTLAŞTIRMA DEĞİŞKENLERİN DÖNÜŞTÜRÜLMESİ"
   ],
   "cell_type": "markdown",
   "metadata": {}
  },
  {
   "cell_type": "code",
   "execution_count": 123,
   "metadata": {},
   "outputs": [],
   "source": [
    "# Yapay sinir ağları için özellikle önemi olan DEĞİŞKENLERİN DÖNÜŞTÜRÜLMESİ işlemi vardır.\n",
    "# Kullanmış olduğumuz bütün makine öğrenmesi algoritmaları eğer değişkenler standartlaştırılırsa daha performanslı çalışmaya eğimlidir. Çünkü veri setinin içerisinde yer alan değişkenlerde bulunan aykırılıklar vb. durumlar bu standartlaştırma işlemleriyle bir miktar ortadan kalkabilmektedir. Fakat bu standartlaştırma işlemleri öncesinde ve sonrasında modellerin kullanımı yada modellerin kurulması aşamalarında bazı kafa karışıklıkları ortaya çıkarabilmektedir.\n",
    "# Şöyleki yapay sinir ağları ve daha iyi performans gösterdiğini bildiğimiz DERİN ÖĞRENME çalışmaları görüntü üzerinde yapay sinir ağı kullanılan çalışmalarda veri setleri genellikle HOMOJEN dir. Yani değişkenlerin birbirlerine olan benzerlikleri yüksektir. Örneğin AĞACA DAYALI YÖNTEMLERDE ağaca dayalı algoritmalar HETEROJEN VERİ SETLERİNDE DAHA İYİ ÇALIŞIR. Ayrıştırıcılığı yakalamaya çalıştığından dolayı.\n",
    "# Dolayısıyla burada da da yine örneğin bu yapay sinir ağı modeli için bir değişken standartlaştırma işlemi yapılırsa bu algoritmanın hoşuna gidebilecektir. Sonuçlara ne şekilde yansıyacağını şu an kestiremeyiz fakat bu yapay sinir ağlarını kullanırken değişkenlerde bir standartlaştırma işlemi genelde yapılır."
   ]
  },
  {
   "cell_type": "code",
   "execution_count": 130,
   "metadata": {},
   "outputs": [],
   "source": [
    "from sklearn.preprocessing import StandardScaler"
   ]
  },
  {
   "cell_type": "code",
   "execution_count": 133,
   "metadata": {},
   "outputs": [],
   "source": [
    "scaler = StandardScaler()"
   ]
  },
  {
   "cell_type": "code",
   "execution_count": 134,
   "metadata": {},
   "outputs": [],
   "source": [
    "scaler.fit(X_train)\n",
    "X_train = scaler.transform(X_train)"
   ]
  },
  {
   "cell_type": "code",
   "execution_count": 135,
   "metadata": {},
   "outputs": [],
   "source": [
    "scaler.fit(X_test)\n",
    "X_test = scaler.transform(X_test)"
   ]
  },
  {
   "cell_type": "code",
   "execution_count": 136,
   "metadata": {},
   "outputs": [],
   "source": [
    "mlpc = MLPClassifier(solver = \"lbfgs\", activation = \"logistic\")"
   ]
  },
  {
   "cell_type": "code",
   "execution_count": 137,
   "metadata": {},
   "outputs": [
    {
     "output_type": "stream",
     "name": "stdout",
     "text": [
      "Fitting 10 folds for each of 28 candidates, totalling 280 fits\n",
      "[Parallel(n_jobs=-1)]: Using backend LokyBackend with 8 concurrent workers.\n",
      "[Parallel(n_jobs=-1)]: Done  25 tasks      | elapsed:    6.7s\n",
      "[Parallel(n_jobs=-1)]: Done 146 tasks      | elapsed:   30.7s\n",
      "[Parallel(n_jobs=-1)]: Done 280 out of 280 | elapsed:  1.0min finished\n"
     ]
    }
   ],
   "source": [
    "mlpc_cv_model = GridSearchCV(mlpc, mlpc_params, cv=10, n_jobs=-1, verbose=2).fit(X_train, y_train)"
   ]
  },
  {
   "cell_type": "code",
   "execution_count": 138,
   "metadata": {},
   "outputs": [
    {
     "output_type": "execute_result",
     "data": {
      "text/plain": [
       "{'alpha': 1, 'hidden_layer_sizes': (3, 5)}"
      ]
     },
     "metadata": {},
     "execution_count": 138
    }
   ],
   "source": [
    "mlpc_cv_model.best_params_"
   ]
  },
  {
   "cell_type": "code",
   "execution_count": 139,
   "metadata": {},
   "outputs": [],
   "source": [
    "lpc_tuned = MLPClassifier(solver=\"lbfgs\", activation=\"logistic\", alpha=1, hidden_layer_sizes = (3,5)).fit(X_train, y_train)"
   ]
  },
  {
   "cell_type": "code",
   "execution_count": 140,
   "metadata": {},
   "outputs": [],
   "source": [
    "y_pred = lpc_tuned.predict(X_test)"
   ]
  },
  {
   "cell_type": "code",
   "execution_count": 141,
   "metadata": {},
   "outputs": [
    {
     "output_type": "execute_result",
     "data": {
      "text/plain": [
       "0.7575757575757576"
      ]
     },
     "metadata": {},
     "execution_count": 141
    }
   ],
   "source": [
    "accuracy_score(y_test, y_pred)"
   ]
  },
  {
   "cell_type": "code",
   "execution_count": null,
   "metadata": {},
   "outputs": [],
   "source": []
  }
 ]
}