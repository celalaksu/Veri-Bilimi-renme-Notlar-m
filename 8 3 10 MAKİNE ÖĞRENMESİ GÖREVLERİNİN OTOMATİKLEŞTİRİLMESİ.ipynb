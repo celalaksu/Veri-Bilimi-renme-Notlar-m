{
 "metadata": {
  "language_info": {
   "codemirror_mode": {
    "name": "ipython",
    "version": 3
   },
   "file_extension": ".py",
   "mimetype": "text/x-python",
   "name": "python",
   "nbconvert_exporter": "python",
   "pygments_lexer": "ipython3",
   "version": "3.8.2-final"
  },
  "orig_nbformat": 2,
  "kernelspec": {
   "name": "Python 3.8.2 64-bit ('.tgy_veribilimi')",
   "display_name": "Python 3.8.2 64-bit ('.tgy_veribilimi')",
   "metadata": {
    "interpreter": {
     "hash": "ba55969ab8b665a0d7ebc430170b2908b5d222710046023b08b5a17088334349"
    }
   }
  }
 },
 "nbformat": 4,
 "nbformat_minor": 2,
 "cells": [
  {
   "source": [
    "# MAKİNE ÖĞRENMESİ GÖREVLERİNİN OTOMATİKLEŞTİRİLMESİ"
   ],
   "cell_type": "markdown",
   "metadata": {}
  },
  {
   "cell_type": "code",
   "execution_count": 1,
   "metadata": {},
   "outputs": [],
   "source": [
    "# ÖNEMLİ OLAN\n",
    "# Veriyi iyi anlamak\n",
    "# Yeni değişkenler oluşturabilmek\n",
    "# Değişkenlerin birbirleri arasındaki ilişkileri tanımlayabilmek\n",
    "# Modelleri optimize etmek."
   ]
  },
  {
   "cell_type": "code",
   "execution_count": 2,
   "metadata": {},
   "outputs": [],
   "source": [
    "# FONKSİYON : Kullanmış olduğumuz bütün makine öğrenmesi algoritmalarını sadece birkaç hareketle otomatik olarak kullansın sonuçlarını bize getirsin ve karşılaştırma imkanı sağlasın."
   ]
  },
  {
   "cell_type": "code",
   "execution_count": 3,
   "metadata": {},
   "outputs": [
    {
     "output_type": "execute_result",
     "data": {
      "text/plain": [
       "'\\n# Ortak veri seti var\\n\\n# VERİ OKUMA\\ndf = pd.read_csv(\"verisetleri\\\\Hitters.csv\")\\n\\n# VERİ ÖN İŞLEME\\ndf = df.dropna()\\n\\n# DEĞİŞKEN DÖNÜŞÜMÜ\\ndms = pd.get_dummies(df[[\\'League\\', \\'Division\\', \\'NewLeague\\']])\\n\\n# TEKRAR EDEN İŞLEMLER ( dms işlemi görmezden gelerek  )\\ny = df[\"Salary\"]\\nX_ = df.drop([\\'Salary\\', \\'League\\', \\'Division\\', \\'NewLeague\\'], axis=1).astype(\\'float64\\')\\nX = pd.concat([X_, dms[[\\'League_N\\', \\'Division_W\\', \\'NewLeague_N\\']]], axis=1)\\nX_train, X_test, y_train, y_test =  train_test_split(X, y, test_size=0.25, random_state=42)\\n'"
      ]
     },
     "metadata": {},
     "execution_count": 3
    }
   ],
   "source": [
    "\"\"\"\n",
    "# Ortak veri seti var\n",
    "\n",
    "# VERİ OKUMA\n",
    "df = pd.read_csv(\"verisetleri\\Hitters.csv\")\n",
    "\n",
    "# VERİ ÖN İŞLEME\n",
    "df = df.dropna()\n",
    "\n",
    "# DEĞİŞKEN DÖNÜŞÜMÜ\n",
    "dms = pd.get_dummies(df[['League', 'Division', 'NewLeague']])\n",
    "\n",
    "# TEKRAR EDEN İŞLEMLER ( dms işlemi görmezden gelerek  )\n",
    "y = df[\"Salary\"]\n",
    "X_ = df.drop(['Salary', 'League', 'Division', 'NewLeague'], axis=1).astype('float64')\n",
    "X = pd.concat([X_, dms[['League_N', 'Division_W', 'NewLeague_N']]], axis=1)\n",
    "X_train, X_test, y_train, y_test =  train_test_split(X, y, test_size=0.25, random_state=42)\n",
    "\"\"\""
   ]
  },
  {
   "cell_type": "code",
   "execution_count": 16,
   "metadata": {},
   "outputs": [],
   "source": [
    "import numpy as np \n",
    "import pandas as pd \n",
    "from sklearn.model_selection import train_test_split, GridSearchCV\n",
    "from sklearn.metrics import mean_squared_error, r2_score\n",
    "import lightgbm\n",
    "from lightgbm import LGBMRegressor\n",
    "from xgboost import XGBRegressor\n",
    "from sklearn.ensemble import GradientBoostingRegressor\n",
    "from sklearn.ensemble import RandomForestRegressor\n",
    "from sklearn.tree import DecisionTreeRegressor\n",
    "from sklearn.neural_network import MLPRegressor\n",
    "from sklearn.neighbors import KNeighborsRegressor\n",
    "from sklearn.svm import SVR"
   ]
  },
  {
   "cell_type": "code",
   "execution_count": 8,
   "metadata": {},
   "outputs": [],
   "source": [
    "df = pd.read_csv(\"verisetleri\\Hitters.csv\")\n",
    "df = df.dropna()\n",
    "dms = pd.get_dummies(df[['League', 'Division', 'NewLeague']])"
   ]
  },
  {
   "cell_type": "code",
   "execution_count": 39,
   "metadata": {},
   "outputs": [],
   "source": [
    "# Fonksiyon V1 : Fonksiyona veri seti ismi, veri setindeki bağımlı değişkenin ismini, ve üzerinde uygulamak istediğim algoritmanın ismini girdiğimde bana tahmin sonuçlarını getirsin. Algoritmalar da el ile girilecek. \n",
    "\n",
    "def compML(df, y, alg):\n",
    "    import pandas as pd\n",
    "    import numpy as np\n",
    "    from sklearn.model_selection import train_test_split\n",
    "\n",
    "    # train-test ayrımı\n",
    "    y = df[y]\n",
    "    X_ = df.drop(['Salary', 'League', 'Division', 'NewLeague'], axis=1).astype('float64')\n",
    "    X = pd.concat([X_, dms[['League_N', 'Division_W', 'NewLeague_N']]], axis=1)\n",
    "    X_train, X_test, y_train, y_test =  train_test_split(X, y, test_size=0.25, random_state=42)\n",
    "\n",
    "    # modelleme\n",
    "    model = alg().fit(X_train, y_train)\n",
    "    y_pred = model.predict(X_test)\n",
    "    RMSE = np.sqrt(mean_squared_error(y_test, y_pred))\n",
    "    model_ismi = alg.__name__\n",
    "    print(model_ismi, \" moelinin test hatası : \", RMSE, \"\\n\")\n",
    "    # return RMSE"
   ]
  },
  {
   "cell_type": "code",
   "execution_count": 40,
   "metadata": {},
   "outputs": [
    {
     "output_type": "stream",
     "name": "stdout",
     "text": [
      "LGBMRegressor  moelinin test hatası :  363.8712087611089 \n\n"
     ]
    }
   ],
   "source": [
    "# Fonksiyon aynı veri seti için diğer modeller içinde kullanılabilir.\n",
    "compML(df, \"Salary\", LGBMRegressor)"
   ]
  },
  {
   "cell_type": "code",
   "execution_count": 15,
   "metadata": {},
   "outputs": [],
   "source": [
    "# Elimizde bir model listesi olacak, bu model listesi içinde gezinecek ve model listesi içerisindeki bütün algoritmalara fonksiyon uygulanacak."
   ]
  },
  {
   "cell_type": "code",
   "execution_count": 41,
   "metadata": {},
   "outputs": [],
   "source": [
    "models = [LGBMRegressor, XGBRegressor, GradientBoostingRegressor, RandomForestRegressor, DecisionTreeRegressor, MLPRegressor, KNeighborsRegressor, SVR]"
   ]
  },
  {
   "cell_type": "code",
   "execution_count": 42,
   "metadata": {},
   "outputs": [
    {
     "output_type": "stream",
     "name": "stdout",
     "text": [
      "LGBMRegressor  moelinin test hatası :  363.8712087611089 \n",
      "\n",
      "XGBRegressor  moelinin test hatası :  355.4651481224188 \n",
      "\n",
      "GradientBoostingRegressor  moelinin test hatası :  352.2747924516249 \n",
      "\n",
      "RandomForestRegressor  moelinin test hatası :  337.6820698960082 \n",
      "\n",
      "DecisionTreeRegressor  moelinin test hatası :  484.89779509461704 \n",
      "\n",
      "MLPRegressor  moelinin test hatası :  361.51492147361716 \n",
      "\n",
      "KNeighborsRegressor  moelinin test hatası :  426.6570764525201 \n",
      "\n",
      "SVR  moelinin test hatası :  460.0032657244849 \n",
      "\n"
     ]
    }
   ],
   "source": [
    "for i in models:\n",
    "    compML(df, \"Salary\", i)"
   ]
  },
  {
   "cell_type": "code",
   "execution_count": null,
   "metadata": {},
   "outputs": [],
   "source": []
  }
 ]
}