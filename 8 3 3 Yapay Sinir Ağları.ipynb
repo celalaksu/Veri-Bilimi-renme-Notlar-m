{
 "metadata": {
  "language_info": {
   "codemirror_mode": {
    "name": "ipython",
    "version": 3
   },
   "file_extension": ".py",
   "mimetype": "text/x-python",
   "name": "python",
   "nbconvert_exporter": "python",
   "pygments_lexer": "ipython3",
   "version": "3.8.2-final"
  },
  "orig_nbformat": 2,
  "kernelspec": {
   "name": "Python 3.8.2 64-bit ('.tgy_veribilimi')",
   "display_name": "Python 3.8.2 64-bit ('.tgy_veribilimi')",
   "metadata": {
    "interpreter": {
     "hash": "ba55969ab8b665a0d7ebc430170b2908b5d222710046023b08b5a17088334349"
    }
   }
  }
 },
 "nbformat": 4,
 "nbformat_minor": 2,
 "cells": [
  {
   "source": [
    "# YAPAY SİNİR AĞLARI"
   ],
   "cell_type": "markdown",
   "metadata": {}
  },
  {
   "cell_type": "code",
   "execution_count": 2,
   "metadata": {},
   "outputs": [],
   "source": [
    "import numpy as np \n",
    "import pandas as pd \n",
    "from sklearn.model_selection import train_test_split, GridSearchCV\n",
    "from sklearn.metrics import mean_squared_error, r2_score\n",
    "import matplotlib.pyplot as plt \n",
    "# Standartlaştırma için eklenen fonksiyonlar scale ve StandartdScaler\n",
    "from sklearn.preprocessing import scale \n",
    "from sklearn.preprocessing import StandardScaler\n",
    "from sklearn import model_selection\n",
    "from sklearn.linear_model import LinearRegression\n",
    "from sklearn.tree import DecisionTreeRegressor\n",
    "from sklearn.neighbors import KNeighborsRegressor\n",
    "from sklearn.neural_network import MLPRegressor\n",
    "from sklearn.ensemble import RandomForestRegressor\n",
    "from sklearn.ensemble import GradientBoostingRegressor\n",
    "from sklearn import neighbors\n",
    "from sklearn.svm import SVR"
   ]
  },
  {
   "cell_type": "code",
   "execution_count": 3,
   "metadata": {},
   "outputs": [],
   "source": [
    "df = pd.read_csv(\"verisetleri\\Hitters.csv\")\n",
    "df = df.dropna()\n",
    "dms = pd.get_dummies(df[['League', 'Division', 'NewLeague']])\n",
    "y = df[\"Salary\"]\n",
    "X_ = df.drop(['Salary', 'League', 'Division', 'NewLeague'], axis=1).astype('float64')\n",
    "X = pd.concat([X_, dms[['League_N', 'Division_W', 'NewLeague_N']]], axis=1)\n",
    "X_train, X_test, y_train, y_test =  train_test_split(X, y, test_size=0.25, random_state=42)"
   ]
  },
  {
   "cell_type": "code",
   "execution_count": 4,
   "metadata": {},
   "outputs": [],
   "source": [
    "# MODEL & TAHMİN"
   ]
  },
  {
   "cell_type": "code",
   "execution_count": 5,
   "metadata": {},
   "outputs": [],
   "source": [
    "# Diğer bölümlerden farklı olarak değişkenlerde standartlaştırma işlemi gerçekleştirilecek. Makine algoritmalarının hemen hemen hepsi standartlaştırma işlemlerini normalde sever. Fakat bazı algoritmalar heterojen verisetleri üzerinde iyi çalışırken bazı algoritmalarda homojen verisetleri üzerinde iyi çalışır. Yapay sinir ağları homojen verisetleri üzerinde daha iyi çalışır. Çünkü hataların optimizasyonu noktasında yapılan türevleme işlemlerinde ortaya çıkmış olan aykırılıkların yani gerçek değerler ile tahmin değerleri arasında ciddi farklar oluşturan değerlerin ortaya çıkarabildiği bazı problemler sözkonusudur. Bundan dolayı yapay sinir ağlarını standartlaştırma işleri sonrasında kullanmak daha sağlıklı olmaktadır."
   ]
  },
  {
   "cell_type": "code",
   "execution_count": 6,
   "metadata": {},
   "outputs": [],
   "source": [
    "# STANDARTLAŞTIRMA"
   ]
  },
  {
   "cell_type": "code",
   "execution_count": 8,
   "metadata": {},
   "outputs": [],
   "source": [
    "scaler = StandardScaler()"
   ]
  },
  {
   "cell_type": "code",
   "execution_count": 9,
   "metadata": {},
   "outputs": [],
   "source": [
    "scaler.fit(X_train)\n",
    "X_train_scaled = scaler.transform(X_train)"
   ]
  },
  {
   "cell_type": "code",
   "execution_count": 10,
   "metadata": {},
   "outputs": [],
   "source": [
    "X_test_scaled = scaler.transform(X_test)"
   ]
  },
  {
   "cell_type": "code",
   "execution_count": 11,
   "metadata": {},
   "outputs": [],
   "source": [
    "# mlp -> multi layer p... çok katmanlı algılayıcı\n",
    "mlp_model = MLPRegressor().fit(X_train_scaled, y_train)"
   ]
  },
  {
   "cell_type": "code",
   "execution_count": 12,
   "metadata": {},
   "outputs": [
    {
     "output_type": "execute_result",
     "data": {
      "text/plain": [
       "MLPRegressor()"
      ]
     },
     "metadata": {},
     "execution_count": 12
    }
   ],
   "source": [
    "mlp_model"
   ]
  },
  {
   "cell_type": "code",
   "execution_count": 13,
   "metadata": {},
   "outputs": [],
   "source": [
    "# ( Burada gözükmüyor ) aktivasyon fonksiyonu 'relu'\n",
    "# alpha = 0.0001, hidden_layer_sizes(100,), learning_rate_init = 0.001, solver='adam', max_iter=200 \n",
    "# gibi değerler ön tanımlı değerlerdir."
   ]
  },
  {
   "cell_type": "code",
   "execution_count": 14,
   "metadata": {},
   "outputs": [],
   "source": [
    "# TAHMİN"
   ]
  },
  {
   "cell_type": "code",
   "execution_count": 15,
   "metadata": {},
   "outputs": [
    {
     "output_type": "execute_result",
     "data": {
      "text/plain": [
       "array([21.22999435, 39.19215033, 72.85521884, 15.22254478, 32.75666823])"
      ]
     },
     "metadata": {},
     "execution_count": 15
    }
   ],
   "source": [
    "mlp_model.predict(X_test_scaled)[0:5]"
   ]
  },
  {
   "cell_type": "code",
   "execution_count": 16,
   "metadata": {},
   "outputs": [],
   "source": [
    "y_pred = mlp_model.predict(X_test_scaled)"
   ]
  },
  {
   "cell_type": "code",
   "execution_count": 17,
   "metadata": {},
   "outputs": [
    {
     "output_type": "execute_result",
     "data": {
      "text/plain": [
       "656.2783247537075"
      ]
     },
     "metadata": {},
     "execution_count": 17
    }
   ],
   "source": [
    "np.sqrt(mean_squared_error(y_test, y_pred))"
   ]
  },
  {
   "cell_type": "code",
   "execution_count": 18,
   "metadata": {},
   "outputs": [],
   "source": [
    "# MODEL TUNNING"
   ]
  },
  {
   "cell_type": "code",
   "execution_count": 22,
   "metadata": {},
   "outputs": [],
   "source": [
    "mlp_params = {\"alpha\": [0.1, 0.01, 0.02, 0.001, 0.0001], \"hidden_layer_sizes\" : [(10, 20), (5, 5), (100, 100)]}"
   ]
  },
  {
   "cell_type": "code",
   "execution_count": 20,
   "metadata": {},
   "outputs": [],
   "source": [
    "# 0.001 ve 0.0001 değerleri daha küçük ve öğrenme işlemlerini yavaşlatıcı ama başarıyı arttırma ihtimali olduğunu varsaydığımız parametre değeri olarak verdik. alpha değerleri yani lambda değerleri yani ceza parametreleridir. "
   ]
  },
  {
   "cell_type": "code",
   "execution_count": 21,
   "metadata": {},
   "outputs": [],
   "source": [
    "# hidden_layer_sizes : Burada kullanmış olduğumuz fonksiyonlara kuruyor olduğumuz yapay sinir ağı modelinin topolojik yapısı ile ilgili bilgi vermek adına katmanları ifade etmek istediğimizde, katmanları ifade ederken şöyle bir yaklaşım izliyoruz. Girdiğimiz değer kadar katman ve girilen değerler kadar da hücre oluşmuş oluyor. \n",
    "# Yani burada iki tane gizli katman olması gerektiğini anlıyor. Biri 10 biri 20 sayılarını verdik. Herbir katmandaki nöron sayısını da bu sayılarla belirtik. Yani iki katman var, bir katmanda 10 nöron, diğer katmanda 20 nöron var. Bu birinci deneme içindir.\n",
    "# İkinci deneme için yine iki gizli katman ve katmanlarda 5 er nöron belirledik.\n",
    "# Başka bir deneme için 100 e 100 değerlerini verdik."
   ]
  },
  {
   "cell_type": "code",
   "execution_count": 23,
   "metadata": {},
   "outputs": [],
   "source": [
    "# Birinci alpha değeri için bütün gizli katman seçenekleri çalıştırılacak, sonra ikinci alpha değeri için bütün gizli katman seçenekleri çalıştırılacak. Bu şekilde devam edecek"
   ]
  },
  {
   "cell_type": "code",
   "execution_count": 36,
   "metadata": {},
   "outputs": [
    {
     "output_type": "stream",
     "name": "stdout",
     "text": [
      "Fitting 10 folds for each of 15 candidates, totalling 150 fits\n",
      "[Parallel(n_jobs=-1)]: Using backend LokyBackend with 8 concurrent workers.\n",
      "[Parallel(n_jobs=-1)]: Done  25 tasks      | elapsed:    9.8s\n",
      "[Parallel(n_jobs=-1)]: Done 150 out of 150 | elapsed:   19.4s finished\n"
     ]
    }
   ],
   "source": [
    "mlp_cv_model = GridSearchCV(mlp_model, mlp_params, cv=10, verbose=2, n_jobs=-1).fit(X_train_scaled, y_train)"
   ]
  },
  {
   "cell_type": "code",
   "execution_count": 37,
   "metadata": {},
   "outputs": [
    {
     "output_type": "execute_result",
     "data": {
      "text/plain": [
       "{'alpha': 0.02, 'hidden_layer_sizes': (100, 100)}"
      ]
     },
     "metadata": {},
     "execution_count": 37
    }
   ],
   "source": [
    "mlp_cv_model.best_params_"
   ]
  },
  {
   "cell_type": "code",
   "execution_count": 27,
   "metadata": {},
   "outputs": [],
   "source": [
    "# yapay sinir ağlarında kullanılabilecek olan bir çok ağ yapısı, kullanılabilecek olan bir çok farklı parametre değeri kullanılabilecek olan bir çok solver yöntemi yani çözüm yöntemi yine kullanılabilecek olan bir çok aktivasyon fonksiyonu yaklaşımı var. Dolayısıyla bu alan biraz daha uzmanlık gerektiren problemlerin türüne göre çalışmaların yapılabildiği bir alandır. "
   ]
  },
  {
   "cell_type": "code",
   "execution_count": 28,
   "metadata": {},
   "outputs": [],
   "source": [
    "# FİNAL MODELİ "
   ]
  },
  {
   "cell_type": "code",
   "execution_count": 38,
   "metadata": {},
   "outputs": [],
   "source": [
    "mlp_tunded = MLPRegressor(alpha=0.02, hidden_layer_sizes=(100,100)).fit(X_train_scaled, y_train)"
   ]
  },
  {
   "cell_type": "code",
   "execution_count": 39,
   "metadata": {},
   "outputs": [],
   "source": [
    "y_pred = mlp_tunded.predict(X_test_scaled)"
   ]
  },
  {
   "cell_type": "code",
   "execution_count": 40,
   "metadata": {},
   "outputs": [
    {
     "output_type": "execute_result",
     "data": {
      "text/plain": [
       "368.5308375546997"
      ]
     },
     "metadata": {},
     "execution_count": 40
    }
   ],
   "source": [
    "np.sqrt(mean_squared_error(y_test, y_pred))"
   ]
  },
  {
   "cell_type": "code",
   "execution_count": 41,
   "metadata": {},
   "outputs": [],
   "source": [
    "# Olası faklı senaryolarda denenebilir.\n",
    "# Değişkenler dönüştürülebilir.\n",
    "# Başka yeni değişkenler oluşturulabilir.\n",
    "# Henüz ön işlem olarak, eksik gözlem ve aykırı gözlem işlemlerini yapmadığımıza dikkat edelim. Bunlarda çok değerli hatayı düşürebilecek olan çalışmalardır. "
   ]
  },
  {
   "cell_type": "code",
   "execution_count": 42,
   "metadata": {},
   "outputs": [],
   "source": [
    "# the end nörons"
   ]
  }
 ]
}