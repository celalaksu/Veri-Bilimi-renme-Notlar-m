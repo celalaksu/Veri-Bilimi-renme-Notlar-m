{
 "metadata": {
  "language_info": {
   "codemirror_mode": {
    "name": "ipython",
    "version": 3
   },
   "file_extension": ".py",
   "mimetype": "text/x-python",
   "name": "python",
   "nbconvert_exporter": "python",
   "pygments_lexer": "ipython3",
   "version": "3.8.2-final"
  },
  "orig_nbformat": 2,
  "kernelspec": {
   "name": "Python 3.8.2 64-bit ('.tgy_veribilimi')",
   "display_name": "Python 3.8.2 64-bit ('.tgy_veribilimi')",
   "metadata": {
    "interpreter": {
     "hash": "ba55969ab8b665a0d7ebc430170b2908b5d222710046023b08b5a17088334349"
    }
   }
  }
 },
 "nbformat": 4,
 "nbformat_minor": 2,
 "cells": [
  {
   "source": [
    "# TAHMİNE DAYALI DEĞER ATAMA YÖNTEMLERİ"
   ],
   "cell_type": "markdown",
   "metadata": {}
  },
  {
   "cell_type": "code",
   "execution_count": 3,
   "metadata": {},
   "outputs": [],
   "source": [
    "import numpy as np \n",
    "import pandas as pd\n",
    "import seaborn as sns\n",
    "import missingno as msno "
   ]
  },
  {
   "cell_type": "code",
   "execution_count": 5,
   "metadata": {},
   "outputs": [
    {
     "output_type": "stream",
     "name": "stdout",
     "text": [
      "   survived  pclass   age  sibsp  parch     fare\n0         0       3  22.0      1      0   7.2500\n1         1       1  38.0      1      0  71.2833\n2         1       3  26.0      0      0   7.9250\n3         1       1  35.0      1      0  53.1000\n4         0       3  35.0      0      0   8.0500\n"
     ]
    },
    {
     "output_type": "execute_result",
     "data": {
      "text/plain": [
       "survived      0\n",
       "pclass        0\n",
       "age         177\n",
       "sibsp         0\n",
       "parch         0\n",
       "fare          0\n",
       "dtype: int64"
      ]
     },
     "metadata": {},
     "execution_count": 5
    }
   ],
   "source": [
    "df = sns.load_dataset(\"titanic\")\n",
    "df = df.select_dtypes(include = ['float64', 'int64'])\n",
    "print(df.head())\n",
    "df.isnull().sum()"
   ]
  },
  {
   "cell_type": "code",
   "execution_count": 6,
   "metadata": {},
   "outputs": [],
   "source": [
    "# age değişkenin de 177 tane eksik değer var"
   ]
  },
  {
   "cell_type": "code",
   "execution_count": 5,
   "metadata": {},
   "outputs": [
    {
     "output_type": "stream",
     "name": "stdout",
     "text": [
      "Looking in links: https://download.pytorch.org/whl/torch_stable.html\nRequirement already satisfied: torch===1.6.0 in d:\\btkakademi_turkcellgy\\.tgy_veribilimi\\lib\\site-packages (1.6.0)\nRequirement already satisfied: torchvision===0.7.0 in d:\\btkakademi_turkcellgy\\.tgy_veribilimi\\lib\\site-packages (0.7.0)\nRequirement already satisfied: future in d:\\btkakademi_turkcellgy\\.tgy_veribilimi\\lib\\site-packages (from torch===1.6.0) (0.18.2)\nRequirement already satisfied: numpy in d:\\btkakademi_turkcellgy\\.tgy_veribilimi\\lib\\site-packages (from torch===1.6.0) (1.19.2)\nRequirement already satisfied: pillow>=4.1.1 in d:\\btkakademi_turkcellgy\\.tgy_veribilimi\\lib\\site-packages (from torchvision===0.7.0) (8.0.0)\n"
     ]
    }
   ],
   "source": [
    "!pip install torch===1.6.0 torchvision===0.7.0 -f https://download.pytorch.org/whl/torch_stable.html"
   ]
  },
  {
   "cell_type": "code",
   "execution_count": 23,
   "metadata": {},
   "outputs": [
    {
     "output_type": "stream",
     "name": "stdout",
     "text": [
      "Collecting ycimpute\n",
      "  Using cached ycimpute-0.2-py3-none-any.whl (35 kB)\n",
      "Requirement already satisfied: scikit-learn>=0.17.1 in d:\\btkakademi_turkcellgy\\.tgy_veribilimi\\lib\\site-packages (from ycimpute) (0.23.2)\n",
      "Requirement already satisfied: six in d:\\btkakademi_turkcellgy\\.tgy_veribilimi\\lib\\site-packages (from ycimpute) (1.15.0)\n",
      "Requirement already satisfied: numpy>=1.10 in d:\\btkakademi_turkcellgy\\.tgy_veribilimi\\lib\\site-packages (from ycimpute) (1.19.2)\n",
      "Requirement already satisfied: torch>=1.1.0 in d:\\btkakademi_turkcellgy\\.tgy_veribilimi\\lib\\site-packages (from ycimpute) (1.6.0)\n",
      "Requirement already satisfied: scipy in d:\\btkakademi_turkcellgy\\.tgy_veribilimi\\lib\\site-packages (from ycimpute) (1.5.3)\n",
      "Requirement already satisfied: joblib>=0.11 in d:\\btkakademi_turkcellgy\\.tgy_veribilimi\\lib\\site-packages (from scikit-learn>=0.17.1->ycimpute) (0.17.0)\n",
      "Requirement already satisfied: threadpoolctl>=2.0.0 in d:\\btkakademi_turkcellgy\\.tgy_veribilimi\\lib\\site-packages (from scikit-learn>=0.17.1->ycimpute) (2.1.0)\n",
      "Requirement already satisfied: future in d:\\btkakademi_turkcellgy\\.tgy_veribilimi\\lib\\site-packages (from torch>=1.1.0->ycimpute) (0.18.2)\n",
      "Installing collected packages: ycimpute\n",
      "Successfully installed ycimpute-0.2\n"
     ]
    }
   ],
   "source": [
    "!pip install ycimpute"
   ]
  },
  {
   "source": [
    "## KNN Algoritması İle"
   ],
   "cell_type": "markdown",
   "metadata": {}
  },
  {
   "cell_type": "code",
   "execution_count": 1,
   "metadata": {},
   "outputs": [],
   "source": [
    "from ycimpute.imputer import knnimput"
   ]
  },
  {
   "cell_type": "code",
   "execution_count": 7,
   "metadata": {},
   "outputs": [],
   "source": [
    "# 1 - knnimput a numpy array verilmesi gerekir. \n",
    "# 2 - Bu yüzden dataframe değişken isimlerini ayırmamız gerekir. \n",
    "# 3 - Sonrasında veri setinin numpy array ına çevirmemiz gerekir.\n",
    "# 4 - Atama işlemlerinin yapılması\n",
    "# 5 - Atama işlemlerinden sonra tekrar isimleri birleştireceğiz."
   ]
  },
  {
   "cell_type": "code",
   "execution_count": 6,
   "metadata": {},
   "outputs": [],
   "source": [
    "# 2. Adım - Değişken isimlerinin ayrı değişkene atanması\n",
    "var_names = list(df)"
   ]
  },
  {
   "cell_type": "code",
   "execution_count": 7,
   "metadata": {},
   "outputs": [],
   "source": [
    "# 3. Adım - Veri setinin numpy array a dönüştürülmesi\n",
    "n_df = np.array(df)"
   ]
  },
  {
   "cell_type": "code",
   "execution_count": 8,
   "metadata": {},
   "outputs": [
    {
     "output_type": "execute_result",
     "data": {
      "text/plain": [
       "array([[ 0.    ,  3.    , 22.    ,  1.    ,  0.    ,  7.25  ],\n",
       "       [ 1.    ,  1.    , 38.    ,  1.    ,  0.    , 71.2833],\n",
       "       [ 1.    ,  3.    , 26.    ,  0.    ,  0.    ,  7.925 ],\n",
       "       [ 1.    ,  1.    , 35.    ,  1.    ,  0.    , 53.1   ],\n",
       "       [ 0.    ,  3.    , 35.    ,  0.    ,  0.    ,  8.05  ],\n",
       "       [ 0.    ,  3.    ,     nan,  0.    ,  0.    ,  8.4583],\n",
       "       [ 0.    ,  1.    , 54.    ,  0.    ,  0.    , 51.8625],\n",
       "       [ 0.    ,  3.    ,  2.    ,  3.    ,  1.    , 21.075 ],\n",
       "       [ 1.    ,  3.    , 27.    ,  0.    ,  2.    , 11.1333],\n",
       "       [ 1.    ,  2.    , 14.    ,  1.    ,  0.    , 30.0708]])"
      ]
     },
     "metadata": {},
     "execution_count": 8
    }
   ],
   "source": [
    "n_df[0:10]"
   ]
  },
  {
   "cell_type": "code",
   "execution_count": 9,
   "metadata": {},
   "outputs": [
    {
     "output_type": "execute_result",
     "data": {
      "text/plain": [
       "(891, 6)"
      ]
     },
     "metadata": {},
     "execution_count": 9
    }
   ],
   "source": [
    "n_df.shape"
   ]
  },
  {
   "cell_type": "code",
   "execution_count": 10,
   "metadata": {},
   "outputs": [
    {
     "output_type": "stream",
     "name": "stdout",
     "text": [
      "Imputing row 1/891 with 0 missing, elapsed time: 0.141\nImputing row 101/891 with 0 missing, elapsed time: 0.164\nImputing row 201/891 with 0 missing, elapsed time: 0.166\nImputing row 301/891 with 1 missing, elapsed time: 0.167\nImputing row 401/891 with 0 missing, elapsed time: 0.168\nImputing row 501/891 with 0 missing, elapsed time: 0.170\nImputing row 601/891 with 0 missing, elapsed time: 0.171\nImputing row 701/891 with 0 missing, elapsed time: 0.173\nImputing row 801/891 with 0 missing, elapsed time: 0.174\n"
     ]
    }
   ],
   "source": [
    "# 4. Adım - Atama işlemlerinin yapılması\n",
    "# k = 4 -> komşuluk sayısı, complete(n_df) -> Eksik verileri doldurur.\n",
    "dff = knnimput.KNN(k = 4).complete(n_df)"
   ]
  },
  {
   "cell_type": "code",
   "execution_count": 11,
   "metadata": {},
   "outputs": [
    {
     "output_type": "execute_result",
     "data": {
      "text/plain": [
       "numpy.ndarray"
      ]
     },
     "metadata": {},
     "execution_count": 11
    }
   ],
   "source": [
    "type(dff)"
   ]
  },
  {
   "cell_type": "code",
   "execution_count": 13,
   "metadata": {},
   "outputs": [],
   "source": [
    "# 5.Adım - Pandas dataframe dönüştürme, değişken isimlerini ekleme\n",
    "dff = pd.DataFrame(dff, columns = var_names)"
   ]
  },
  {
   "cell_type": "code",
   "execution_count": 14,
   "metadata": {},
   "outputs": [
    {
     "output_type": "execute_result",
     "data": {
      "text/plain": [
       "pandas.core.frame.DataFrame"
      ]
     },
     "metadata": {},
     "execution_count": 14
    }
   ],
   "source": [
    "type(dff)"
   ]
  },
  {
   "cell_type": "code",
   "execution_count": 15,
   "metadata": {},
   "outputs": [
    {
     "output_type": "execute_result",
     "data": {
      "text/plain": [
       "survived    0\n",
       "pclass      0\n",
       "age         0\n",
       "sibsp       0\n",
       "parch       0\n",
       "fare        0\n",
       "dtype: int64"
      ]
     },
     "metadata": {},
     "execution_count": 15
    }
   ],
   "source": [
    "# Eksik değerler 0(sıfır) gelecektir.\n",
    "dff.isnull().sum()"
   ]
  },
  {
   "source": [
    "## Random Forest Algoritması İle"
   ],
   "cell_type": "markdown",
   "metadata": {}
  },
  {
   "cell_type": "code",
   "execution_count": 4,
   "metadata": {},
   "outputs": [],
   "source": [
    "df = sns.load_dataset(\"titanic\")\n",
    "df = df.select_dtypes(include = ['float64', 'int64'])"
   ]
  },
  {
   "cell_type": "code",
   "execution_count": 17,
   "metadata": {},
   "outputs": [
    {
     "output_type": "execute_result",
     "data": {
      "text/plain": [
       "survived      0\n",
       "pclass        0\n",
       "age         177\n",
       "sibsp         0\n",
       "parch         0\n",
       "fare          0\n",
       "dtype: int64"
      ]
     },
     "metadata": {},
     "execution_count": 17
    }
   ],
   "source": [
    "df.isnull().sum()"
   ]
  },
  {
   "cell_type": "code",
   "execution_count": 5,
   "metadata": {},
   "outputs": [],
   "source": [
    "var_names = list(df)"
   ]
  },
  {
   "cell_type": "code",
   "execution_count": 6,
   "metadata": {},
   "outputs": [],
   "source": [
    "var_names = list(df)"
   ]
  },
  {
   "cell_type": "code",
   "execution_count": 7,
   "metadata": {},
   "outputs": [],
   "source": [
    "n_df = np.array(df)"
   ]
  },
  {
   "cell_type": "code",
   "execution_count": 8,
   "metadata": {},
   "outputs": [],
   "source": [
    "from ycimpute.imputer import iterforest\n",
    "import ycimpute as ycp "
   ]
  },
  {
   "cell_type": "code",
   "execution_count": 31,
   "metadata": {},
   "outputs": [
    {
     "output_type": "stream",
     "name": "stdout",
     "text": [
      "Collecting ycimpute==0.1.1\n  Downloading ycimpute-0.1.1-py2.py3-none-any.whl (31 kB)\nRequirement already satisfied: numpy>=1.10 in d:\\btkakademi_turkcellgy\\.tgy_veribilimi\\lib\\site-packages (from ycimpute==0.1.1) (1.19.2)\nRequirement already satisfied: scikit-learn>=0.17.1 in d:\\btkakademi_turkcellgy\\.tgy_veribilimi\\lib\\site-packages (from ycimpute==0.1.1) (0.23.2)\nRequirement already satisfied: scipy in d:\\btkakademi_turkcellgy\\.tgy_veribilimi\\lib\\site-packages (from ycimpute==0.1.1) (1.5.3)\nRequirement already satisfied: six in d:\\btkakademi_turkcellgy\\.tgy_veribilimi\\lib\\site-packages (from ycimpute==0.1.1) (1.15.0)\nRequirement already satisfied: threadpoolctl>=2.0.0 in d:\\btkakademi_turkcellgy\\.tgy_veribilimi\\lib\\site-packages (from scikit-learn>=0.17.1->ycimpute==0.1.1) (2.1.0)\nRequirement already satisfied: joblib>=0.11 in d:\\btkakademi_turkcellgy\\.tgy_veribilimi\\lib\\site-packages (from scikit-learn>=0.17.1->ycimpute==0.1.1) (0.17.0)\nInstalling collected packages: ycimpute\n  Attempting uninstall: ycimpute\n    Found existing installation: ycimpute 0.2\n    Uninstalling ycimpute-0.2:\n      Successfully uninstalled ycimpute-0.2\nSuccessfully installed ycimpute-0.1.1\n"
     ]
    }
   ],
   "source": [
    "!pip install ycimpute==0.1.1"
   ]
  },
  {
   "cell_type": "code",
   "execution_count": 9,
   "metadata": {},
   "outputs": [],
   "source": [
    "dff = iterforest.IterImput().complete(n_df)"
   ]
  },
  {
   "cell_type": "code",
   "execution_count": 10,
   "metadata": {},
   "outputs": [],
   "source": [
    "dff = pd.DataFrame(dff, columns = var_names)"
   ]
  },
  {
   "cell_type": "code",
   "execution_count": 11,
   "metadata": {},
   "outputs": [
    {
     "output_type": "execute_result",
     "data": {
      "text/plain": [
       "survived    0\n",
       "pclass      0\n",
       "age         0\n",
       "sibsp       0\n",
       "parch       0\n",
       "fare        0\n",
       "dtype: int64"
      ]
     },
     "metadata": {},
     "execution_count": 11
    }
   ],
   "source": [
    "dff.isnull().sum()"
   ]
  },
  {
   "source": [
    "# EM Algoritması İle"
   ],
   "cell_type": "markdown",
   "metadata": {}
  },
  {
   "cell_type": "code",
   "execution_count": 12,
   "metadata": {},
   "outputs": [],
   "source": [
    "df = sns.load_dataset(\"titanic\")\n",
    "df = df.select_dtypes(include = ['float64', 'int64'])"
   ]
  },
  {
   "cell_type": "code",
   "execution_count": 13,
   "metadata": {},
   "outputs": [],
   "source": [
    "from ycimpute.imputer import EM"
   ]
  },
  {
   "cell_type": "code",
   "execution_count": 14,
   "metadata": {},
   "outputs": [],
   "source": [
    "var_names = list(df)"
   ]
  },
  {
   "cell_type": "code",
   "execution_count": 15,
   "metadata": {},
   "outputs": [],
   "source": [
    "n_df = np.array(df)"
   ]
  },
  {
   "cell_type": "code",
   "execution_count": 16,
   "metadata": {},
   "outputs": [],
   "source": [
    "dff = EM().complete(n_df)"
   ]
  },
  {
   "cell_type": "code",
   "execution_count": 17,
   "metadata": {},
   "outputs": [],
   "source": [
    "dff = pd.DataFrame(dff, columns=var_names)"
   ]
  },
  {
   "cell_type": "code",
   "execution_count": 18,
   "metadata": {},
   "outputs": [
    {
     "output_type": "execute_result",
     "data": {
      "text/plain": [
       "survived    0\n",
       "pclass      0\n",
       "age         0\n",
       "sibsp       0\n",
       "parch       0\n",
       "fare        0\n",
       "dtype: int64"
      ]
     },
     "metadata": {},
     "execution_count": 18
    }
   ],
   "source": [
    "dff.isnull().sum()"
   ]
  },
  {
   "cell_type": "code",
   "execution_count": null,
   "metadata": {},
   "outputs": [],
   "source": [
    "# END # NOT : DOLDURMA İŞLEMİNDEN ÖNCE YAPISAL PROBLEM VAR MI? YANİ RASGELELİK PROBLEMİ VAR MI? YANİ BAZI DEĞİŞKENLERDEKİ EKSİKLİKLER ACABA DİĞER DEĞİŞKENLERE BAĞLI OLARAK MI GERÇEKLEŞİYOR. BUNUN GÖZLENMESİ GEREKİR."
   ]
  }
 ]
}